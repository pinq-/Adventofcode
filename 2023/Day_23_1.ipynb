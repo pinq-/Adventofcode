{
 "cells": [
  {
   "cell_type": "code",
   "execution_count": 121,
   "id": "43555a8b-8de2-4931-8c6f-e02a902803af",
   "metadata": {},
   "outputs": [
    {
     "data": {
      "text/plain": [
       "1000-element Vector{String}:\n",
       " \"eight9fhstbssrplmdlncmmqqnklb39ninejz\"\n",
       " \"three656\"\n",
       " \"ppjvndvknbtpfsncplmhhrlh5\"\n",
       " \"7fjqhrhsevenlbtwoninevnmct2\"\n",
       " \"qjnbpfrztwo1\"\n",
       " \"plggqjthree49four\"\n",
       " \"xpxpbsdc1\"\n",
       " \"three2six8two5\"\n",
       " \"36two\"\n",
       " \"five121zvjks3\"\n",
       " \"4onefive6zsjhzvrjnsfive1\"\n",
       " \"six5vfb\"\n",
       " \"5h9bnkjfivemlqkf\"\n",
       " ⋮\n",
       " \"pbkprbzvs819threeonekjpk7brkmbqbkgroneightb\"\n",
       " \"ninerfcvgpbltbljnk3\"\n",
       " \"nfzlonesmeight6gtff\"\n",
       " \"tleighttdxtbhrvgk16bpkmtcvlnrhnmhz\"\n",
       " \"one99\"\n",
       " \"mqtwooneeight7sevenfourht\"\n",
       " \"stzmqplr8gvmxblz\"\n",
       " \"five8dvdjqfmpnh3\"\n",
       " \"scjjr4twoh\"\n",
       " \"nine35gzmlt\"\n",
       " \"5sixfour2qxsqkpnq\"\n",
       " \"kdkjqdkvgs2\""
      ]
     },
     "execution_count": 121,
     "metadata": {},
     "output_type": "execute_result"
    }
   ],
   "source": [
    "#data = readlines(\"testi.txt\")\n",
    "data = readlines(\"aoc_input_1.txt\")"
   ]
  },
  {
   "cell_type": "code",
   "execution_count": 132,
   "id": "208b5849-9320-41a6-9b3a-2765c262e681",
   "metadata": {},
   "outputs": [
    {
     "data": {
      "text/plain": [
       "first_number (generic function with 1 method)"
      ]
     },
     "execution_count": 132,
     "metadata": {},
     "output_type": "execute_result"
    }
   ],
   "source": [
    "function first_number(string_word, direction)\n",
    "    if direction\n",
    "        string_word = reverse(string_word)\n",
    "    end\n",
    "    for letter in string_word\n",
    "        if isdigit(letter)\n",
    "            return letter\n",
    "        end\n",
    "    end\n",
    "end"
   ]
  },
  {
   "cell_type": "code",
   "execution_count": 123,
   "id": "c78764ae-c373-4618-9d93-8aa6b9c99914",
   "metadata": {},
   "outputs": [
    {
     "data": {
      "text/plain": [
       "contain_word_forward (generic function with 1 method)"
      ]
     },
     "execution_count": 123,
     "metadata": {},
     "output_type": "execute_result"
    }
   ],
   "source": [
    "function contain_word_forward(string_word)\n",
    "    words_list = Dict(\n",
    "    \"one\" => \"1\",\n",
    "    \"two\" => \"2\",\n",
    "    \"three\" => \"3\",\n",
    "    \"four\" => \"4\",\n",
    "    \"five\" => \"5\",\n",
    "    \"six\" => \"6\",\n",
    "    \"seven\" => \"7\",\n",
    "    \"eight\" => \"8\",\n",
    "    \"nine\" => \"9\"\n",
    "    )\n",
    "    for (index, letter) in enumerate(string_word)\n",
    "        if isdigit(letter)\n",
    "            return letter\n",
    "        end\n",
    "        for sana in keys(words_list)\n",
    "           if occursin(sana, string_word[1:index])\n",
    "                    return words_list[sana]\n",
    "            end\n",
    "        end\n",
    "    end\n",
    "end"
   ]
  },
  {
   "cell_type": "code",
   "execution_count": 124,
   "id": "feda2065-974f-4551-bf54-384fba44aadc",
   "metadata": {},
   "outputs": [
    {
     "data": {
      "text/plain": [
       "contain_word_back (generic function with 1 method)"
      ]
     },
     "execution_count": 124,
     "metadata": {},
     "output_type": "execute_result"
    }
   ],
   "source": [
    "function contain_word_back(string_word)\n",
    "    words_list = Dict(\n",
    "    \"one\" => \"1\",\n",
    "    \"two\" => \"2\",\n",
    "    \"three\" => \"3\",\n",
    "    \"four\" => \"4\",\n",
    "    \"five\" => \"5\",\n",
    "    \"six\" => \"6\",\n",
    "    \"seven\" => \"7\",\n",
    "    \"eight\" => \"8\",\n",
    "    \"nine\" => \"9\"\n",
    "    )\n",
    "    for (index, letter) in Iterators.reverse(enumerate(string_word))\n",
    "        if isdigit(letter)\n",
    "            return letter\n",
    "        end\n",
    "        for sana in keys(words_list)\n",
    "            if occursin(sana, string_word[index:end])\n",
    "                    return words_list[sana]\n",
    "            end\n",
    "        end\n",
    "    end\n",
    "end"
   ]
  },
  {
   "cell_type": "code",
   "execution_count": 133,
   "id": "a134ff20-8480-4793-9aad-685074e3e44e",
   "metadata": {},
   "outputs": [
    {
     "name": "stdout",
     "output_type": "stream",
     "text": [
      "4814\n"
     ]
    }
   ],
   "source": [
    "summa_first = 0\n",
    "for line in data\n",
    "    #println(line)\n",
    "    first = first_number(line, false)\n",
    "    last = first_number(line, true)\n",
    "    summa_first += parse(Int, first)\n",
    "    #println(summa)\n",
    "end\n",
    "println(summa_first)"
   ]
  },
  {
   "cell_type": "code",
   "execution_count": 120,
   "id": "115e92e1-c2f9-4aaa-9573-fbc740a76d8b",
   "metadata": {},
   "outputs": [
    {
     "name": "stdout",
     "output_type": "stream",
     "text": [
      "53268\n"
     ]
    }
   ],
   "source": [
    "# Second part\n",
    "summa = 0\n",
    "for line in data\n",
    "    first = contain_word_forward(line)\n",
    "    last = contain_word_back(line)\n",
    "    summa += parse(Int, first*last)\n",
    "end\n",
    "println(summa)"
   ]
  }
 ],
 "metadata": {
  "kernelspec": {
   "display_name": "Julia 1.8.3",
   "language": "julia",
   "name": "julia-1.8"
  },
  "language_info": {
   "file_extension": ".jl",
   "mimetype": "application/julia",
   "name": "julia",
   "version": "1.8.3"
  }
 },
 "nbformat": 4,
 "nbformat_minor": 5
}
