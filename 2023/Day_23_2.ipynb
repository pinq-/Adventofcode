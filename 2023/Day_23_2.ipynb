{
 "cells": [
  {
   "cell_type": "code",
   "execution_count": 46,
   "id": "43555a8b-8de2-4931-8c6f-e02a902803af",
   "metadata": {},
   "outputs": [
    {
     "data": {
      "text/plain": [
       "100-element Vector{String}:\n",
       " \"Game 1: 4 red, 5 blue, 9 green;\" ⋯ 60 bytes ⋯ \"11 blue, 6 red; 12 red, 14 blue\"\n",
       " \"Game 2: 12 blue, 11 green, 3 re\" ⋯ 27 bytes ⋯ \"5 red, 11 blue; 2 blue, 8 green\"\n",
       " \"Game 3: 8 blue, 5 green, 2 red;\" ⋯ 83 bytes ⋯ \"14 blue; 8 blue, 2 green, 8 red\"\n",
       " \"Game 4: 3 red, 14 blue, 15 green; 1 red, 11 green, 14 blue; 14 green, 17 blue\"\n",
       " \"Game 5: 11 green, 2 red, 10 blu\" ⋯ 81 bytes ⋯ \" green; 1 red, 10 blue, 3 green\"\n",
       " \"Game 6: 2 green, 5 red, 17 blue\" ⋯ 19 bytes ⋯ \", 6 red; 8 red, 9 blue, 7 green\"\n",
       " \"Game 7: 2 blue, 18 green; 4 green, 1 red, 1 blue; 4 blue, 19 green\"\n",
       " \"Game 8: 6 green, 7 blue; 9 green, 6 blue; 7 blue, 1 red, 3 green\"\n",
       " \"Game 9: 4 blue, 12 green, 3 red\" ⋯ 91 bytes ⋯ \" 4 blue; 3 blue, 1 red, 6 green\"\n",
       " \"Game 10: 11 blue, 6 green, 6 red; 15 green, 1 blue; 1 red, 6 blue, 4 green\"\n",
       " \"Game 11: 9 blue, 1 red, 6 green; 6 red, 1 green; 10 blue, 3 green, 6 red\"\n",
       " \"Game 12: 1 blue, 10 red, 1 gree\" ⋯ 25 bytes ⋯ \"3 blue, 1 green; 3 red, 2 green\"\n",
       " \"Game 13: 3 red, 11 green, 18 bl\" ⋯ 97 bytes ⋯ \" green; 17 blue, 4 green, 6 red\"\n",
       " ⋮\n",
       " \"Game 89: 7 green, 9 red, 7 blue\" ⋯ 35 bytes ⋯ \" green; 15 red, 4 green, 6 blue\"\n",
       " \"Game 90: 4 blue, 5 red, 4 green\" ⋯ 56 bytes ⋯ \", 4 red, 4 green; 3 blue, 2 red\"\n",
       " \"Game 91: 7 green, 5 red, 2 blue\" ⋯ 77 bytes ⋯ \" 3 blue; 5 red, 1 blue, 4 green\"\n",
       " \"Game 92: 2 green; 1 red, 2 blue\" ⋯ 17 bytes ⋯ \" 2 green, 2 blue; 2 blue, 7 red\"\n",
       " \"Game 93: 8 red, 5 blue; 10 red,\" ⋯ 33 bytes ⋯ \"0 red, 1 green; 6 blue; 10 blue\"\n",
       " \"Game 94: 2 blue, 4 green; 8 gre\" ⋯ 61 bytes ⋯ \"3 green; 6 blue, 6 green, 1 red\"\n",
       " \"Game 95: 3 blue, 13 red, 10 gre\" ⋯ 104 bytes ⋯ \"een; 10 green, 13 blue, 19 red\"\n",
       " \"Game 96: 5 green, 9 blue, 16 re\" ⋯ 72 bytes ⋯ \"3 green; 3 red, 4 blue, 5 green\"\n",
       " \"Game 97: 6 blue, 4 green, 6 red\" ⋯ 27 bytes ⋯ \"15 green, 2 red; 2 green, 2 red\"\n",
       " \"Game 98: 10 blue, 13 red; 10 bl\" ⋯ 54 bytes ⋯ \" 1 blue, 11 red; 4 red, 4 green\"\n",
       " \"Game 99: 1 red, 4 blue; 5 red, \" ⋯ 31 bytes ⋯ \" 6 blue; 8 blue, 2 green, 3 red\"\n",
       " \"Game 100: 5 green, 1 red; 4 blu\" ⋯ 53 bytes ⋯ \"5 green, 1 red; 2 red, 13 green\""
      ]
     },
     "execution_count": 46,
     "metadata": {},
     "output_type": "execute_result"
    }
   ],
   "source": [
    "#data = readlines(\"testi.txt\")\n",
    "data = readlines(\"aoc_input_2.txt\")"
   ]
  },
  {
   "cell_type": "code",
   "execution_count": 39,
   "id": "f8297819-be04-48cb-94cb-fc88b382b910",
   "metadata": {},
   "outputs": [
    {
     "data": {
      "text/plain": [
       "find_limit (generic function with 1 method)"
      ]
     },
     "execution_count": 39,
     "metadata": {},
     "output_type": "execute_result"
    }
   ],
   "source": [
    "limits = Dict(\n",
    "    \"red\" => 12,\n",
    "    \"green\" => 13,\n",
    "    \"blue\" => 14,\n",
    "    )\n",
    "function find_limit(game)\n",
    "    turns = split(game, \";\")\n",
    "    for turn in turns\n",
    "        cubes = split(turn, \",\")\n",
    "        for cube in cubes\n",
    "            cube_split = split(strip(cube), \" \")\n",
    "            if parse(Int, cube_split[1]) > limits[cube_split[2]]\n",
    "                return false\n",
    "            end\n",
    "        end\n",
    "    end\n",
    "    return true\n",
    "end"
   ]
  },
  {
   "cell_type": "code",
   "execution_count": 41,
   "id": "3e0355e6-f52d-4462-af2f-641855728e8b",
   "metadata": {},
   "outputs": [
    {
     "data": {
      "text/plain": [
       "find_max (generic function with 1 method)"
      ]
     },
     "execution_count": 41,
     "metadata": {},
     "output_type": "execute_result"
    }
   ],
   "source": [
    "function find_max(game)\n",
    "    limits = Dict(\n",
    "    \"red\" => 0,\n",
    "    \"green\" => 0,\n",
    "    \"blue\" => 0,\n",
    "    )\n",
    "    turns = split(game, \";\")\n",
    "    for turn in turns\n",
    "        cubes = split(turn, \",\")\n",
    "        for cube in cubes\n",
    "            cube_split = split(strip(cube), \" \")\n",
    "            if parse(Int, cube_split[1]) > limits[cube_split[2]]\n",
    "                limits[cube_split[2]] = parse(Int, cube_split[1])\n",
    "            end\n",
    "        end\n",
    "    end\n",
    "    return limits[\"red\"] * limits[\"green\"] * limits[\"blue\"] \n",
    "end"
   ]
  },
  {
   "cell_type": "code",
   "execution_count": 40,
   "id": "a134ff20-8480-4793-9aad-685074e3e44e",
   "metadata": {},
   "outputs": [
    {
     "name": "stdout",
     "output_type": "stream",
     "text": [
      "8\n"
     ]
    }
   ],
   "source": [
    "summa_first = 0\n",
    "for line in data\n",
    "    split_game = split(line, \":\")\n",
    "    game_id = parse(Int, split(split_game[1], \" \")[2])\n",
    "    if find_limit(split_game[2])\n",
    "        summa_first += game_id\n",
    "    end\n",
    "end\n",
    "println(summa_first)"
   ]
  },
  {
   "cell_type": "code",
   "execution_count": 47,
   "id": "115e92e1-c2f9-4aaa-9573-fbc740a76d8b",
   "metadata": {},
   "outputs": [
    {
     "name": "stdout",
     "output_type": "stream",
     "text": [
      "75561\n"
     ]
    }
   ],
   "source": [
    "# Second part\n",
    "summa_second = 0\n",
    "for line in data\n",
    "    split_game = split(line, \":\")\n",
    "    game_id = parse(Int, split(split_game[1], \" \")[2])\n",
    "    summa_second += find_max(split_game[2])\n",
    "end\n",
    "println(summa_second)"
   ]
  },
  {
   "cell_type": "code",
   "execution_count": null,
   "id": "06541123-44f2-4ff3-a55a-83fa2d9a347d",
   "metadata": {},
   "outputs": [],
   "source": []
  }
 ],
 "metadata": {
  "kernelspec": {
   "display_name": "Julia 1.8.3",
   "language": "julia",
   "name": "julia-1.8"
  },
  "language_info": {
   "file_extension": ".jl",
   "mimetype": "application/julia",
   "name": "julia",
   "version": "1.8.3"
  }
 },
 "nbformat": 4,
 "nbformat_minor": 5
}
