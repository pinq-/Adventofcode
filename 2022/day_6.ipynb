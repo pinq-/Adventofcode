{
 "cells": [
  {
   "cell_type": "code",
   "execution_count": 28,
   "id": "27aed46c-e00b-411f-a5b6-311841ef968a",
   "metadata": {},
   "outputs": [
    {
     "data": {
      "text/plain": [
       "1-element Vector{String}:\n",
       " \"rgffbnnqvqhhmtmzzmmpmllcggsdsw\" ⋯ 4035 bytes ⋯ \"gvlqcvhzzzcrsqcvrbsbjbdbgddlbb\""
      ]
     },
     "execution_count": 28,
     "metadata": {},
     "output_type": "execute_result"
    }
   ],
   "source": [
    "data = readlines(\"data_6.txt\")\n",
    "#data = readlines(\"expample.txt\")"
   ]
  },
  {
   "cell_type": "code",
   "execution_count": 29,
   "id": "43a0a8ea-3467-43e0-a32b-ad14db625c59",
   "metadata": {},
   "outputs": [
    {
     "name": "stdout",
     "output_type": "stream",
     "text": [
      "1100\n"
     ]
    }
   ],
   "source": [
    "#first\n",
    "for line in data\n",
    "    for i in 1:length(line)-4\n",
    "        if length(unique(line[i:i+3])) == 4\n",
    "            #println(length(unique(line[i:i+3])))\n",
    "            println(i+3)\n",
    "            #println(line[i:i+3])\n",
    "            break\n",
    "        end\n",
    "    end\n",
    "end"
   ]
  },
  {
   "cell_type": "code",
   "execution_count": 30,
   "id": "091ee5c3-1cb1-481f-b3d5-b9a9399b6b2e",
   "metadata": {},
   "outputs": [
    {
     "name": "stdout",
     "output_type": "stream",
     "text": [
      "14\n",
      "2421\n",
      "cmwlnbzqjsgftr\n"
     ]
    }
   ],
   "source": [
    "#second\n",
    "for line in data\n",
    "    for i in 1:length(line)-14\n",
    "        if length(unique(line[i:i+13])) == 14\n",
    "            println(length(unique(line[i:i+13])))\n",
    "            println(i+13)\n",
    "            println(line[i:i+13])\n",
    "            break\n",
    "        end\n",
    "    end\n",
    "end"
   ]
  },
  {
   "cell_type": "code",
   "execution_count": null,
   "id": "a1f1b416-5904-486f-9a96-44f1e5044902",
   "metadata": {},
   "outputs": [],
   "source": []
  }
 ],
 "metadata": {
  "kernelspec": {
   "display_name": "Julia 1.8.3",
   "language": "julia",
   "name": "julia-1.8"
  },
  "language_info": {
   "file_extension": ".jl",
   "mimetype": "application/julia",
   "name": "julia",
   "version": "1.8.3"
  }
 },
 "nbformat": 4,
 "nbformat_minor": 5
}
