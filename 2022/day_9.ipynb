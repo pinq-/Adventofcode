{
 "cells": [
  {
   "cell_type": "code",
   "execution_count": 179,
   "id": "252f7583-db6c-47d2-a9b3-08a6ad5c332b",
   "metadata": {},
   "outputs": [
    {
     "data": {
      "text/plain": [
       "2000-element Vector{String}:\n",
       " \"U 1\"\n",
       " \"R 1\"\n",
       " \"L 1\"\n",
       " \"D 1\"\n",
       " \"R 1\"\n",
       " \"L 1\"\n",
       " \"D 1\"\n",
       " \"L 2\"\n",
       " \"D 1\"\n",
       " \"R 1\"\n",
       " \"D 2\"\n",
       " \"L 1\"\n",
       " \"R 1\"\n",
       " ⋮\n",
       " \"U 10\"\n",
       " \"L 14\"\n",
       " \"R 15\"\n",
       " \"D 19\"\n",
       " \"L 13\"\n",
       " \"U 4\"\n",
       " \"L 8\"\n",
       " \"U 8\"\n",
       " \"L 7\"\n",
       " \"D 5\"\n",
       " \"R 17\"\n",
       " \"U 8\""
      ]
     },
     "execution_count": 179,
     "metadata": {},
     "output_type": "execute_result"
    }
   ],
   "source": [
    "data = readlines(\"data_9.txt\")\n",
    "#data = readlines(\"expample.txt\")"
   ]
  },
  {
   "cell_type": "code",
   "execution_count": 143,
   "id": "a9b2a760-9033-4a35-967c-5ab538837960",
   "metadata": {},
   "outputs": [
    {
     "data": {
      "text/plain": [
       "tail_around (generic function with 1 method)"
      ]
     },
     "execution_count": 143,
     "metadata": {},
     "output_type": "execute_result"
    }
   ],
   "source": [
    "function tail_around(head,tail)\n",
    "    if head[1] -1 <= tail[1] <= head[1] + 1\n",
    "        if head[2] - 1 <= tail[2] <= head[2] + 1\n",
    "            return true\n",
    "        end\n",
    "    end\n",
    "    return false\n",
    "end"
   ]
  },
  {
   "cell_type": "code",
   "execution_count": 105,
   "id": "c622efd7-447b-4ba7-905e-250f0f6be919",
   "metadata": {},
   "outputs": [
    {
     "data": {
      "text/plain": [
       "6503"
      ]
     },
     "execution_count": 105,
     "metadata": {},
     "output_type": "execute_result"
    }
   ],
   "source": [
    "#first\n",
    "head = [1,1] #y,x\n",
    "tail = [1,1]\n",
    "index = 0\n",
    "head_pre = [0,0]\n",
    "tail_moves = []\n",
    "grid = zeros(Int8, 6, 6)\n",
    "for line in data\n",
    "    move = split(line, \" \")\n",
    "    move_now = [0,0]\n",
    "    for moves in 1:parse(Int,move[2])\n",
    "        # if grid[head[1], head[2]] != 2\n",
    "        #     grid[head[1], head[2]] = 0\n",
    "        # end\n",
    "        if move[1] == \"R\"\n",
    "            move_now[2] = 1\n",
    "        elseif move[1] == \"L\"\n",
    "            move_now[2] = -1\n",
    "        elseif move[1] == \"U\"\n",
    "            move_now[1] = 1\n",
    "        elseif move[1] == \"D\"\n",
    "            move_now[1] = -1\n",
    "        end\n",
    "        head_pre = head\n",
    "        head += move_now\n",
    "        tail_is_around = tail_around(head, tail)\n",
    "        if !tail_is_around\n",
    "            tail = head_pre\n",
    "        end\n",
    "        # if grid[head[1], head[2]] != 2\n",
    "        #     grid[head[1], head[2]] = 1\n",
    "        # end\n",
    "        if !any(i -> (i == tail), tail_moves)\n",
    "            push!(tail_moves, tail)\n",
    "        end\n",
    "        # grid[tail[1], tail[2]] = 2\n",
    "        # grid[tail] = 0\n",
    "        move_pre = move_now\n",
    "        # println(tail_is_around)\n",
    "        # println(head, \" \", tail)\n",
    "        # display(grid)\n",
    "    end\n",
    "end\n",
    "# count(i->(i==2), grid)\n",
    "# tail_moves\n",
    "length(tail_moves)"
   ]
  },
  {
   "cell_type": "code",
   "execution_count": 142,
   "id": "7886fb7f-d4b3-48eb-a9a4-28d730a7f812",
   "metadata": {},
   "outputs": [
    {
     "data": {
      "text/plain": [
       "move_tail (generic function with 1 method)"
      ]
     },
     "execution_count": 142,
     "metadata": {},
     "output_type": "execute_result"
    }
   ],
   "source": [
    "function move_tail(head,tail)\n",
    "    if head[1] == tail[1]\n",
    "        if head[2] > tail[2]\n",
    "            return [0,1]\n",
    "        else\n",
    "            return [0,-1]\n",
    "        end\n",
    "    elseif head[2] == tail[2]\n",
    "        if head[1] > tail[1]\n",
    "            return [1,0]\n",
    "        else\n",
    "            return [-1,0]\n",
    "        end\n",
    "    elseif head[1] > tail[1]\n",
    "        if head[2] > tail[2]\n",
    "            return [1,1]\n",
    "        else\n",
    "            return [1,-1]\n",
    "        end\n",
    "    elseif head[1] < tail[1]\n",
    "        if head[2] > tail[2]\n",
    "            return [-1,1]\n",
    "        else\n",
    "            return [-1,-1]\n",
    "        end\n",
    "    end\n",
    "end\n",
    "        "
   ]
  },
  {
   "cell_type": "code",
   "execution_count": 182,
   "id": "c7c69962-ccff-4788-9d87-4cb6938b922a",
   "metadata": {},
   "outputs": [
    {
     "data": {
      "text/plain": [
       "2724"
      ]
     },
     "execution_count": 182,
     "metadata": {},
     "output_type": "execute_result"
    }
   ],
   "source": [
    "#second\n",
    "head = [16,12] #y,x\n",
    "start = [16,12]\n",
    "tails = fill([0,0], 9)\n",
    "index = 0\n",
    "tail_moves = []\n",
    "grid = zeros(Int8, 27, 27)\n",
    "for line in data\n",
    "    move = split(line, \" \")\n",
    "    move_now = [0,0]\n",
    "    for moves in 1:parse(Int,move[2])\n",
    "\n",
    "        if move[1] == \"R\"\n",
    "            move_now[2] = 1\n",
    "        elseif move[1] == \"L\"\n",
    "            move_now[2] = -1\n",
    "        elseif move[1] == \"U\"\n",
    "            move_now[1] = 1\n",
    "        elseif move[1] == \"D\"\n",
    "            move_now[1] = -1\n",
    "        end\n",
    "        head += move_now\n",
    "        for tail_i in 1:length(tails)\n",
    "            if tails[tail_i] == [0,0]\n",
    "                tails[tail_i] = start\n",
    "            end\n",
    "            if tail_i == 1\n",
    "                tail_is_around = tail_around(head, tails[tail_i])\n",
    "                if !tail_is_around\n",
    "                    tails[tail_i] += move_tail(head,tails[tail_i])\n",
    "                end\n",
    "            else\n",
    "                tail_is_around = tail_around(tails[tail_i-1], tails[tail_i])\n",
    "                if !tail_is_around\n",
    "                    tails[tail_i] += move_tail(tails[tail_i-1], tails[tail_i])\n",
    "                end\n",
    "            end\n",
    "            if tail_i == 9 && !any(i -> (i == tails[tail_i]), tail_moves)\n",
    "                push!(tail_moves, tails[tail_i ])\n",
    "            end\n",
    "            if tails[tail_i] == start\n",
    "                break\n",
    "            end\n",
    "        end\n",
    "    end\n",
    "end\n",
    "length(tail_moves)"
   ]
  },
  {
   "cell_type": "code",
   "execution_count": 177,
   "id": "869b5867-369c-491a-bd00-4d6244826e2e",
   "metadata": {},
   "outputs": [
    {
     "data": {
      "text/plain": [
       "33"
      ]
     },
     "execution_count": 177,
     "metadata": {},
     "output_type": "execute_result"
    }
   ],
   "source": [
    "length(tail_moves)"
   ]
  },
  {
   "cell_type": "code",
   "execution_count": 82,
   "id": "78050b1d-5d2c-4b7a-a82a-759d2b1a7b33",
   "metadata": {},
   "outputs": [
    {
     "data": {
      "text/plain": [
       "7×6 Matrix{Int8}:\n",
       " 0  0  0  0  0  0\n",
       " 0  0  0  0  0  0\n",
       " 0  0  0  0  0  0\n",
       " 0  0  0  0  0  0\n",
       " 0  0  0  0  0  0\n",
       " 0  0  0  0  0  0\n",
       " 0  0  0  0  0  0"
      ]
     },
     "execution_count": 82,
     "metadata": {},
     "output_type": "execute_result"
    }
   ],
   "source": [
    "[grid2; zeros(Int8,6)']"
   ]
  },
  {
   "cell_type": "code",
   "execution_count": 94,
   "id": "791f1a1c-358f-4f50-9e60-387b3142880b",
   "metadata": {},
   "outputs": [
    {
     "data": {
      "text/plain": [
       "3-element Vector{Tuple{Int64, Int64}}:\n",
       " (1, 2)\n",
       " (2, 3)\n",
       " (5, 4)"
      ]
     },
     "execution_count": 94,
     "metadata": {},
     "output_type": "execute_result"
    }
   ],
   "source": [
    "setti = [(1,2), (2,3), (5,4)]"
   ]
  },
  {
   "cell_type": "code",
   "execution_count": 97,
   "id": "b053008c-3be6-49da-83cc-7483d942385b",
   "metadata": {},
   "outputs": [
    {
     "name": "stdout",
     "output_type": "stream",
     "text": [
      "juu\n"
     ]
    }
   ],
   "source": [
    "if any(i -> (i == (1,2)), setti)\n",
    "    println(\"juu\")\n",
    "end"
   ]
  },
  {
   "cell_type": "code",
   "execution_count": 122,
   "id": "93a37f74-a946-4346-bcda-87d0e80e04d8",
   "metadata": {},
   "outputs": [
    {
     "data": {
      "text/plain": [
       "10-element Vector{Vector{Int64}}:\n",
       " [0, 0]\n",
       " [0, 0]\n",
       " [0, 0]\n",
       " [0, 0]\n",
       " [0, 0]\n",
       " [0, 0]\n",
       " [0, 0]\n",
       " [0, 0]\n",
       " [0, 0]\n",
       " [0, 0]"
      ]
     },
     "execution_count": 122,
     "metadata": {},
     "output_type": "execute_result"
    }
   ],
   "source": [
    "fill([0,0], 10)"
   ]
  },
  {
   "cell_type": "code",
   "execution_count": null,
   "id": "adcfd7f9-d7b7-4459-8734-ba643a6ed598",
   "metadata": {},
   "outputs": [],
   "source": []
  }
 ],
 "metadata": {
  "kernelspec": {
   "display_name": "Julia 1.8.3",
   "language": "julia",
   "name": "julia-1.8"
  },
  "language_info": {
   "file_extension": ".jl",
   "mimetype": "application/julia",
   "name": "julia",
   "version": "1.8.3"
  }
 },
 "nbformat": 4,
 "nbformat_minor": 5
}
