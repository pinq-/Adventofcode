{
 "cells": [
  {
   "cell_type": "code",
   "execution_count": 39,
   "id": "8cef01e4-82e7-49e1-982e-c188e2dd3bdd",
   "metadata": {},
   "outputs": [
    {
     "data": {
      "text/plain": [
       "2500-element Array{String,1}:\n",
       " \"C Y\"\n",
       " \"C X\"\n",
       " \"A Z\"\n",
       " \"B X\"\n",
       " \"B Z\"\n",
       " \"C X\"\n",
       " \"C X\"\n",
       " \"B Z\"\n",
       " \"C X\"\n",
       " \"B Z\"\n",
       " \"C X\"\n",
       " \"C X\"\n",
       " \"A X\"\n",
       " ⋮\n",
       " \"A X\"\n",
       " \"C Z\"\n",
       " \"B X\"\n",
       " \"A Y\"\n",
       " \"C Z\"\n",
       " \"A Y\"\n",
       " \"C Y\"\n",
       " \"A X\"\n",
       " \"A Z\"\n",
       " \"A Z\"\n",
       " \"A X\"\n",
       " \"B Z\""
      ]
     },
     "execution_count": 39,
     "metadata": {},
     "output_type": "execute_result"
    }
   ],
   "source": [
    "data = readlines(\"data_2.txt\")"
   ]
  },
  {
   "cell_type": "code",
   "execution_count": 29,
   "id": "9d79a5da-9b14-4e07-9fd8-dd8ffe42c6d8",
   "metadata": {},
   "outputs": [
    {
     "data": {
      "text/plain": [
       "13446"
      ]
     },
     "execution_count": 29,
     "metadata": {},
     "output_type": "execute_result"
    }
   ],
   "source": [
    "# 1.\n",
    "point = 0\n",
    "for lines in data\n",
    "    lines = split(lines)\n",
    "    my_move = 0\n",
    "    your_move = 0\n",
    "    result_point = 0\n",
    "    if occursin(\"A\", lines[1]) # Rock\n",
    "        your_move = 1\n",
    "    elseif occursin(\"B\", lines[1]) # Paper\n",
    "        your_move = 2\n",
    "    elseif occursin(\"C\", lines[1]) # Sissor\n",
    "        your_move = 3\n",
    "    end\n",
    "    if occursin(\"X\", lines[2]) # Rock\n",
    "        my_move = 1\n",
    "        if lines[1] == \"C\"\n",
    "            result_point = 6\n",
    "        end\n",
    "    elseif occursin(\"Y\", lines[2]) # Paper\n",
    "        my_move = 2\n",
    "        if lines[1] == \"A\"\n",
    "            result_point = 6\n",
    "        end\n",
    "    elseif occursin(\"Z\", lines[2]) # Sissor\n",
    "        my_move = 3\n",
    "        if lines[1] == \"B\"\n",
    "            result_point = 6\n",
    "        end\n",
    "    end\n",
    "    if my_move == your_move\n",
    "        result_point = 3\n",
    "    end\n",
    "    #println(lines)\n",
    "    #println(result_point)\n",
    "    #println(my_move)\n",
    "    point += my_move\n",
    "    point += result_point\n",
    "    \n",
    "    \n",
    "end\n",
    "point"
   ]
  },
  {
   "cell_type": "code",
   "execution_count": 40,
   "id": "faee7324-aa40-4f10-b104-fb4942dbd207",
   "metadata": {},
   "outputs": [
    {
     "data": {
      "text/plain": [
       "13509"
      ]
     },
     "execution_count": 40,
     "metadata": {},
     "output_type": "execute_result"
    }
   ],
   "source": [
    "# 2.\n",
    "point = 0\n",
    "for lines in data\n",
    "    lines = split(lines)\n",
    "    my_move = 0\n",
    "    your_move = 0\n",
    "    result_point = 0\n",
    "    if lines[1] == \"A\" # Rock\n",
    "        your_move = 1\n",
    "        if lines[2] == \"X\" # lose\n",
    "            my_move = 3\n",
    "        elseif lines[2] == \"Z\" # win\n",
    "            my_move = 2\n",
    "        else #even\n",
    "            my_move = 1\n",
    "        end\n",
    "    elseif lines[1] == \"B\" # Paper\n",
    "        your_move = 1\n",
    "        if lines[2] == \"X\" # lose\n",
    "            my_move = 1\n",
    "        elseif lines[2] == \"Z\" # win\n",
    "            my_move = 3\n",
    "        else\n",
    "            my_move = 2\n",
    "        end\n",
    "    elseif lines[1] == \"C\" # Scissors\n",
    "        your_move = 1\n",
    "        if lines[2] == \"X\"# lose\n",
    "            my_move = 2\n",
    "        elseif lines[2] == \"Z\" # win\n",
    "            my_move = 1\n",
    "        else\n",
    "            my_move = 3\n",
    "        end\n",
    "    end\n",
    "    if lines[2] == \"Z\"\n",
    "        result_point = 6\n",
    "    elseif lines[2] == \"Y\"\n",
    "        result_point = 3\n",
    "    end\n",
    "    #println(lines)\n",
    "    #println(result_point)\n",
    "    #println(my_move)\n",
    "    point += my_move\n",
    "    point += result_point\n",
    "    \n",
    "    \n",
    "end\n",
    "point"
   ]
  },
  {
   "cell_type": "code",
   "execution_count": null,
   "id": "869ac17c-cda9-4cde-b2db-c2bbd2b25a73",
   "metadata": {},
   "outputs": [],
   "source": []
  }
 ],
 "metadata": {
  "kernelspec": {
   "display_name": "Julia 1.5.3",
   "language": "julia",
   "name": "julia-1.5"
  },
  "language_info": {
   "file_extension": ".jl",
   "mimetype": "application/julia",
   "name": "julia",
   "version": "1.5.3"
  }
 },
 "nbformat": 4,
 "nbformat_minor": 5
}
