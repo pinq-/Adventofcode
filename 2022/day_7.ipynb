{
 "cells": [
  {
   "cell_type": "code",
   "execution_count": 5,
   "id": "4e1ddeb5-c00e-4896-b291-7ac3d05ed07c",
   "metadata": {},
   "outputs": [],
   "source": [
    "using UUIDs"
   ]
  },
  {
   "cell_type": "code",
   "execution_count": 21,
   "id": "a2165c91-23f1-480a-acae-b14a258b6928",
   "metadata": {},
   "outputs": [
    {
     "data": {
      "text/plain": [
       "991-element Vector{String}:\n",
       " \"\\$ cd /\"\n",
       " \"\\$ ls\"\n",
       " \"dir blrnnv\"\n",
       " \"dir ctfjwl\"\n",
       " \"dir dqf\"\n",
       " \"135993 dqqbcfr\"\n",
       " \"dir ftj\"\n",
       " \"125510 fzjdz\"\n",
       " \"dir jvtlfbzr\"\n",
       " \"31762 lsvw.lwr\"\n",
       " \"dir qfstpm\"\n",
       " \"dir sbprmc\"\n",
       " \"dir svbnljr\"\n",
       " ⋮\n",
       " \"\\$ cd qbpvrr\"\n",
       " \"\\$ ls\"\n",
       " \"22955 zzdpcnmt.qbf\"\n",
       " \"\\$ cd ..\"\n",
       " \"\\$ cd ..\"\n",
       " \"\\$ cd wtm\"\n",
       " \"\\$ ls\"\n",
       " \"4584 qfccg.crl\"\n",
       " \"\\$ cd ..\"\n",
       " \"\\$ cd ztrz\"\n",
       " \"\\$ ls\"\n",
       " \"187968 fzjdz.thw\""
      ]
     },
     "execution_count": 21,
     "metadata": {},
     "output_type": "execute_result"
    }
   ],
   "source": [
    "data = readlines(\"data_7.txt\")\n",
    "#data = readlines(\"expample.txt\")"
   ]
  },
  {
   "cell_type": "code",
   "execution_count": 42,
   "id": "8d756cc7-fc8d-460c-b624-f9b49f3325dd",
   "metadata": {},
   "outputs": [
    {
     "data": {
      "text/plain": [
       "os_dict (generic function with 1 method)"
      ]
     },
     "execution_count": 42,
     "metadata": {},
     "output_type": "execute_result"
    }
   ],
   "source": [
    "function os_dict(commants, index, now_dir, all_files)\n",
    "    line = commants[index]\n",
    "    dir = split(line, \" \")[end]\n",
    "    dir_n = UUIDs.uuid4()\n",
    "    all_files[dir_n] = 0\n",
    "    index += 1\n",
    "    while index < length(commants)\n",
    "        line = commants[index]\n",
    "        if line == \"\\$ cd ..\" || index == length(commants)\n",
    "            #println(line, \"back\", index)\n",
    "            index += 1\n",
    "            return index, all_files[dir_n]\n",
    "        elseif line == \"\\$ ls\"\n",
    "            #println(line, \"list\", index)\n",
    "            # dir = split(commants[index - 1], \" \")[end]\n",
    "            index += 1\n",
    "            line = commants[index]\n",
    "            now_dir[\"files\"] = []\n",
    "            while true\n",
    "                #println(line, \" READ\", index, dir)\n",
    "                if isdigit(line[1])\n",
    "                    push!(now_dir[\"files\"], parse(Int,split(line, \" \")[1]))\n",
    "                    # now_dir[\"size\"] += parse(Int,split(line, \" \")[1])\n",
    "                    all_files[dir_n] += parse(Int,split(line, \" \")[1])\n",
    "                end\n",
    "                if index == length(commants)\n",
    "                    #println(\"The end\")\n",
    "                    return index, all_files[dir_n]\n",
    "                    break\n",
    "                end\n",
    "                index += 1\n",
    "                line = commants[index]\n",
    "                if startswith(line,\"\\$\")\n",
    "                    break\n",
    "                end\n",
    "            end\n",
    "            #println(\"valitietoa\", all_files)\n",
    "        elseif line == \"\\$ cd /\"\n",
    "            index += 1\n",
    "            now_dir[\"size\"] = 0\n",
    "            #all_files[dir] = 0\n",
    "            #dir = \"/\"\n",
    "            continue\n",
    "        elseif startswith(line, \"\\$ cd \")\n",
    "            #println(line, \"Go in\")\n",
    "            #dir = split(line, \" \")[end]\n",
    "            now_dir[dir_n] = Dict()\n",
    "            now_dir[dir_n][\"size\"] = 0\n",
    "            #all_files[dir] = 0\n",
    "            # index += 1\n",
    "            # println(dir)\n",
    "            index, size = os_dict(commants, index, now_dir[dir_n], all_files)\n",
    "            #println(\"lisataan tähän kansioon \",dir, \" tämä \", size,  all_files)\n",
    "            # now_dir[\"size\"] += size\n",
    "            all_files[dir_n] += size\n",
    "            #print(\"back from dir\", index)\n",
    "        end\n",
    "    end\n",
    "    println(all_files[dir_n])\n",
    "    return all_files[dir_n], all_files\n",
    "end"
   ]
  },
  {
   "cell_type": "code",
   "execution_count": 43,
   "id": "0e5906fc-ad9e-4f0c-b013-a0cc9991227d",
   "metadata": {},
   "outputs": [
    {
     "name": "stdout",
     "output_type": "stream",
     "text": [
      "43636666\n",
      "43636666\n"
     ]
    },
    {
     "data": {
      "text/plain": [
       "3866390"
      ]
     },
     "execution_count": 43,
     "metadata": {},
     "output_type": "execute_result"
    }
   ],
   "source": [
    "index = 1\n",
    "max_dir, result = os_dict(data, index, Dict(), Dict())\n",
    "println(max_dir)\n",
    "free_space = 70000000 - max_dir\n",
    "need_space = 30000000 - free_space \n",
    "result = [k[2] for k in result if k[2] > need_space]\n",
    "minimum(result)"
   ]
  },
  {
   "cell_type": "code",
   "execution_count": 18,
   "id": "a451155b-9a54-4ce5-b2ae-db54b7eb5f9d",
   "metadata": {},
   "outputs": [
    {
     "name": "stdout",
     "output_type": "stream",
     "text": [
      "Dict{Any, Any}(UUID(\"89b4fc47-80ff-44ee-96f9-22d869c65518\") => 48381165, UUID(\"67bc30ef-f15a-456e-84bc-6663e555337e\") => 94853, UUID(\"b939568d-3252-4ca1-9c30-4b5288c73d93\") => 584, UUID(\"91af318d-fdd6-4c6a-94a0-34504510a660\") => 24933642)\n"
     ]
    },
    {
     "data": {
      "text/plain": [
       "2-element Vector{Int64}:\n",
       " 94853\n",
       "   584"
      ]
     },
     "execution_count": 18,
     "metadata": {},
     "output_type": "execute_result"
    }
   ],
   "source": [
    "\n",
    "index = 1\n",
    "max_dir, result = os_dict(data, index, Dict(), Dict())\n",
    "println(result)\n",
    "result = [k[2] for k in result if k[2] <= 100000]\n",
    "# sum(result)"
   ]
  },
  {
   "cell_type": "code",
   "execution_count": null,
   "id": "0bf28730-aefe-4c45-9132-2deac05095b4",
   "metadata": {},
   "outputs": [],
   "source": []
  },
  {
   "cell_type": "code",
   "execution_count": 43,
   "id": "6df19bc7-a42a-45f7-9e8d-219f37502e35",
   "metadata": {},
   "outputs": [
    {
     "name": "stdout",
     "output_type": "stream",
     "text": [
      "$ cd /mennään kansioon\n",
      "$ lslista\n",
      "dir aLUETTUA3\n",
      "14848514 b.txtLUETTUA4\n",
      "8504156 c.datLUETTUA5\n",
      "dir dLUETTUA6\n",
      "$ cd aLUETTUA7\n",
      "$ cd amennään kansioon\n",
      "$ lslista\n",
      "dir eLUETTUA9\n",
      "29116 fLUETTUA10\n",
      "2557 gLUETTUA11\n",
      "62596 h.lstLUETTUA12\n",
      "$ cd eLUETTUA13\n",
      "$ cd emennään kansioon\n",
      "$ lslista\n",
      "584 iLUETTUA15\n",
      "$ cd ..LUETTUA16\n",
      "$ cd ..takas\n",
      "$ cd ..takas\n",
      "$ cd dmennään kansioon\n",
      "$ lslista\n",
      "4060174 jLUETTUA20\n",
      "8033020 d.logLUETTUA21\n",
      "5626152 d.extLUETTUA22\n",
      "7214296 kLUETTUA23\n"
     ]
    },
    {
     "data": {
      "text/plain": [
       "Dict{Any, Any} with 1 entry:\n",
       "  \"/\" => Dict{Any, Any}(\"files\"=>Any[14848514, 8504156], \"parent\"=>\"\", \"a\"=>Dic…"
      ]
     },
     "execution_count": 43,
     "metadata": {},
     "output_type": "execute_result"
    }
   ],
   "source": [
    "index = 1\n",
    "rounds = 1\n",
    "os_dir = Dict()\n",
    "now_dir = os_dir\n",
    "dir = \"\"\n",
    "while index < length(data) && rounds < 30\n",
    "    line = data[index]\n",
    "    #println(line,\",\", rounds,\" \", index)\n",
    "    rounds += 1\n",
    "    if line == \"\\$ cd ..\"\n",
    "        println(line, \"takas\")\n",
    "        now\n",
    "        index += 1\n",
    "    elseif line == \"\\$ ls\"\n",
    "        println(line, \"lista\")\n",
    "        line = data[index + 1]\n",
    "        while !startswith(line,\"\\$\") && index < length(data)\n",
    "            if isdigit(line[1])\n",
    "               push!(now_dir[\"files\"], parse(Int,split(line, \" \")[1]))  \n",
    "            end\n",
    "            index += 1\n",
    "            line = data[index]\n",
    "            println(line, \"LUETTUA\", index)\n",
    "        end\n",
    "    elseif startswith(line, \"\\$ cd \")\n",
    "        println(line, \"mennään kansioon\")\n",
    "        parent = dir\n",
    "        dir = split(line, \" \")[end]\n",
    "        now_dir[dir] = Dict()\n",
    "        now_dir = now_dir[dir]\n",
    "        now_dir[\"files\"] = []\n",
    "        now_dir[\"parent\"] = parent\n",
    "        index += 1\n",
    "    end\n",
    "end\n",
    "os_dir"
   ]
  },
  {
   "cell_type": "code",
   "execution_count": 57,
   "id": "2ec42ee9-950c-43ff-870e-b18925233255",
   "metadata": {},
   "outputs": [
    {
     "data": {
      "text/plain": [
       "kala (generic function with 1 method)"
      ]
     },
     "execution_count": 57,
     "metadata": {},
     "output_type": "execute_result"
    }
   ],
   "source": [
    "function kala()\n",
    "   return 1,2 \n",
    "end"
   ]
  },
  {
   "cell_type": "code",
   "execution_count": 35,
   "id": "e6a591d1-c835-4335-814d-f60631a3da88",
   "metadata": {},
   "outputs": [
    {
     "data": {
      "text/plain": [
       "21618835"
      ]
     },
     "execution_count": 35,
     "metadata": {},
     "output_type": "execute_result"
    }
   ],
   "source": [
    "70000000- 48381165"
   ]
  },
  {
   "cell_type": "code",
   "execution_count": 107,
   "id": "802e0acf-c4f3-4abf-8585-e8109a7781fb",
   "metadata": {},
   "outputs": [
    {
     "data": {
      "text/plain": [
       "Dict{Any, Any} with 1 entry:\n",
       "  \"a\" => 1"
      ]
     },
     "execution_count": 107,
     "metadata": {},
     "output_type": "execute_result"
    }
   ],
   "source": [
    "jee"
   ]
  },
  {
   "cell_type": "code",
   "execution_count": 95,
   "id": "71c59e48-5bdb-4b64-afa1-518c2e6e43f0",
   "metadata": {},
   "outputs": [
    {
     "data": {
      "text/plain": [
       "2-element Vector{Any}:\n",
       " 4\n",
       " 0"
      ]
     },
     "execution_count": 95,
     "metadata": {},
     "output_type": "execute_result"
    }
   ],
   "source": [
    "jee"
   ]
  },
  {
   "cell_type": "code",
   "execution_count": 20,
   "id": "d9e8093d-7d21-464c-947c-a9a2d98bdc8f",
   "metadata": {},
   "outputs": [
    {
     "data": {
      "text/plain": [
       "3"
      ]
     },
     "execution_count": 20,
     "metadata": {},
     "output_type": "execute_result"
    }
   ],
   "source": [
    "jee[\"c\"][\"juu\"] = 3"
   ]
  },
  {
   "cell_type": "code",
   "execution_count": 3,
   "id": "e35fd4c9-5fa5-417c-9461-d1e5677c97b7",
   "metadata": {},
   "outputs": [
    {
     "ename": "LoadError",
     "evalue": "syntax: { } vector syntax is discontinued around In[3]:1",
     "output_type": "error",
     "traceback": [
      "syntax: { } vector syntax is discontinued around In[3]:1",
      "",
      "Stacktrace:",
      " [1] top-level scope",
      "   @ In[3]:1",
      " [2] eval",
      "   @ ./boot.jl:368 [inlined]",
      " [3] include_string(mapexpr::typeof(REPL.softscope), mod::Module, code::String, filename::String)",
      "   @ Base ./loading.jl:1428"
     ]
    }
   ],
   "source": [
    "kala = {Int}(undef,n)"
   ]
  },
  {
   "cell_type": "code",
   "execution_count": 161,
   "id": "5a7386bd-9c15-4363-8c60-71a1aed9d9e9",
   "metadata": {},
   "outputs": [
    {
     "data": {
      "text/plain": [
       "293265"
      ]
     },
     "execution_count": 161,
     "metadata": {},
     "output_type": "execute_result"
    }
   ],
   "source": [
    "sum([135993, 125510, 31762])"
   ]
  },
  {
   "cell_type": "code",
   "execution_count": 97,
   "id": "2d21a244-b69c-41dd-8d61-5be63991a274",
   "metadata": {},
   "outputs": [
    {
     "ename": "LoadError",
     "evalue": "UndefVarError: uuid1 not defined",
     "output_type": "error",
     "traceback": [
      "UndefVarError: uuid1 not defined",
      "",
      "Stacktrace:",
      " [1] top-level scope",
      "   @ In[97]:1",
      " [2] eval",
      "   @ ./boot.jl:368 [inlined]",
      " [3] include_string(mapexpr::typeof(REPL.softscope), mod::Module, code::String, filename::String)",
      "   @ Base ./loading.jl:1428"
     ]
    }
   ],
   "source": [
    "uuid1(123)"
   ]
  },
  {
   "cell_type": "code",
   "execution_count": null,
   "id": "11dfbab9-be4d-4158-94dd-3b06928bcd8a",
   "metadata": {},
   "outputs": [],
   "source": []
  }
 ],
 "metadata": {
  "kernelspec": {
   "display_name": "Julia 1.8.3",
   "language": "julia",
   "name": "julia-1.8"
  },
  "language_info": {
   "file_extension": ".jl",
   "mimetype": "application/julia",
   "name": "julia",
   "version": "1.8.3"
  }
 },
 "nbformat": 4,
 "nbformat_minor": 5
}
