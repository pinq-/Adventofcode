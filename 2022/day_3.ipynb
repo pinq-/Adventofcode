{
 "cells": [
  {
   "cell_type": "code",
   "execution_count": 94,
   "id": "07cb77ce-4bf4-4f8c-9910-cba191785c30",
   "metadata": {},
   "outputs": [
    {
     "data": {
      "text/plain": [
       "300-element Array{String,1}:\n",
       " \"gvNbShZZgQfWdQhdPQmggLTFLwmwjFqjVVgM\"\n",
       " \"CsJnHllcsnnnnJrGRnRwPPLVmFLHLBjFFVHmPT\"\n",
       " \"JlnCtctJnJDcJlDCRpPrSSQWfphzWZfbZSvfNfbS\"\n",
       " \"WjvRSdSQjvpjWzNlnZlNZqCCMzZZ\"\n",
       " \"nJtJsbctPBPwLNcDZNNGLClC\"\n",
       " \"tsFJHBgJwgJbnvSHHWVWHhVhpQ\"\n",
       " \"zRzPhCCSHVZzfGHZ\"\n",
       " \"qBsWBpqBwBcvqqWgdfZrprdggPHHVZ\"\n",
       " \"WWmvwvBbnWmnwvWcbmWWnqNCRSDRRSSjjSDbPJbRjClLhC\"\n",
       " \"rQrznfHHhrHzllzlzTGcJgtJ\"\n",
       " \"jhhjjSZVPWVZvSFtTttLTglgFtvm\"\n",
       " \"dqSCqVWdbDSSVqbVVSqhNdrnpnCnfsnnwfnsRpMpBMrf\"\n",
       " \"rTnvrSSHvHtnDQVDtfmW\"\n",
       " ⋮\n",
       " \"FdncmqmgcZztLWFvFFvjWLlT\"\n",
       " \"RsMMJVpfhJVsDVMfJpvlTWTvhjQSQvCbLCSC\"\n",
       " \"jDBjRrsVfNJgzdZrZwtmZt\"\n",
       " \"THDDQLZTGQQLQDSSTBCZSZHfFrvvlVRRlPVFfVrvqnvnnH\"\n",
       " \"VbWWcgbNpjgPrRvrNfqnzv\"\n",
       " \"swggwpJWwsWscJsDSLTJTmSVZJTBDZ\"\n",
       " \"wGsznPGGBHdzHhtHDD\"\n",
       " \"WMVSWqVmrSBMpvWVMFtdClhDtqDDHhdtQt\"\n",
       " \"RgWVRcmgnPPnjJBg\"\n",
       " \"BmfPBHBFswLLjQQnLCnzzW\"\n",
       " \"SRdvvRSGrdlRSvTgRrMVCjVWCZzMnVZhWzTj\"\n",
       " \"vlSRJrRJvbGGrSSJgWvlScptFmwbmfHHBfsNFmBbfsFm\""
      ]
     },
     "execution_count": 94,
     "metadata": {},
     "output_type": "execute_result"
    }
   ],
   "source": [
    "data = readlines(\"data_3.txt\")\n",
    "#data = readlines(\"expample.txt\")"
   ]
  },
  {
   "cell_type": "code",
   "execution_count": 53,
   "id": "5946c725-fe07-47be-8154-2dfdf3db8d7f",
   "metadata": {},
   "outputs": [
    {
     "data": {
      "text/plain": [
       "52-element Array{Char,1}:\n",
       " 'a': ASCII/Unicode U+0061 (category Ll: Letter, lowercase)\n",
       " 'b': ASCII/Unicode U+0062 (category Ll: Letter, lowercase)\n",
       " 'c': ASCII/Unicode U+0063 (category Ll: Letter, lowercase)\n",
       " 'd': ASCII/Unicode U+0064 (category Ll: Letter, lowercase)\n",
       " 'e': ASCII/Unicode U+0065 (category Ll: Letter, lowercase)\n",
       " 'f': ASCII/Unicode U+0066 (category Ll: Letter, lowercase)\n",
       " 'g': ASCII/Unicode U+0067 (category Ll: Letter, lowercase)\n",
       " 'h': ASCII/Unicode U+0068 (category Ll: Letter, lowercase)\n",
       " 'i': ASCII/Unicode U+0069 (category Ll: Letter, lowercase)\n",
       " 'j': ASCII/Unicode U+006A (category Ll: Letter, lowercase)\n",
       " 'k': ASCII/Unicode U+006B (category Ll: Letter, lowercase)\n",
       " 'l': ASCII/Unicode U+006C (category Ll: Letter, lowercase)\n",
       " 'm': ASCII/Unicode U+006D (category Ll: Letter, lowercase)\n",
       " ⋮\n",
       " 'O': ASCII/Unicode U+004F (category Lu: Letter, uppercase)\n",
       " 'P': ASCII/Unicode U+0050 (category Lu: Letter, uppercase)\n",
       " 'Q': ASCII/Unicode U+0051 (category Lu: Letter, uppercase)\n",
       " 'R': ASCII/Unicode U+0052 (category Lu: Letter, uppercase)\n",
       " 'S': ASCII/Unicode U+0053 (category Lu: Letter, uppercase)\n",
       " 'T': ASCII/Unicode U+0054 (category Lu: Letter, uppercase)\n",
       " 'U': ASCII/Unicode U+0055 (category Lu: Letter, uppercase)\n",
       " 'V': ASCII/Unicode U+0056 (category Lu: Letter, uppercase)\n",
       " 'W': ASCII/Unicode U+0057 (category Lu: Letter, uppercase)\n",
       " 'X': ASCII/Unicode U+0058 (category Lu: Letter, uppercase)\n",
       " 'Y': ASCII/Unicode U+0059 (category Lu: Letter, uppercase)\n",
       " 'Z': ASCII/Unicode U+005A (category Lu: Letter, uppercase)"
      ]
     },
     "execution_count": 53,
     "metadata": {},
     "output_type": "execute_result"
    }
   ],
   "source": [
    "alphabet = vcat(collect('a':'z'), collect('A':'Z')) "
   ]
  },
  {
   "cell_type": "code",
   "execution_count": 62,
   "id": "7646ff92-2aa3-42a4-91ea-f4a6e1f52840",
   "metadata": {},
   "outputs": [
    {
     "data": {
      "text/plain": [
       "7553"
      ]
     },
     "execution_count": 62,
     "metadata": {},
     "output_type": "execute_result"
    }
   ],
   "source": [
    "#first\n",
    "all_nu = 0\n",
    "for line in data\n",
    "    line_l = floor(Int, length(line)/2)\n",
    "    #println(line_l)\n",
    "    #println(line[1:line_l])\n",
    "    #println(line[line_l+1:end])\n",
    "    for kirjain in line[1:line_l]\n",
    "        if contains(line[line_l+1:end], kirjain)\n",
    "            #println(kirjain)\n",
    "            all_nu += findfirst(isequal(kirjain),alphabet)\n",
    "            break\n",
    "        end\n",
    "    end\n",
    "end\n",
    "all_nu"
   ]
  },
  {
   "cell_type": "code",
   "execution_count": 96,
   "id": "7be95d06-f20f-425f-90bd-67be760b659b",
   "metadata": {},
   "outputs": [
    {
     "data": {
      "text/plain": [
       "2758"
      ]
     },
     "execution_count": 96,
     "metadata": {},
     "output_type": "execute_result"
    }
   ],
   "source": [
    "#Second\n",
    "all_nu = 0\n",
    "for i=1:3:length(data)\n",
    "    #println(data[i+2])\n",
    "    letters_1 = data[i+1][findall(x->x in data[i], data[i+1])]\n",
    "    #println(letters_1)\n",
    "    letter = data[i+2][findfirst(x->x in letters_1, data[i+2])]\n",
    "    #println(letter)\n",
    "    all_nu += findfirst(isequal(letter),alphabet)\n",
    "end\n",
    "all_nu"
   ]
  },
  {
   "cell_type": "code",
   "execution_count": 73,
   "id": "1960ef21-81c9-4575-bb7f-3fd4d2da1892",
   "metadata": {},
   "outputs": [
    {
     "data": {
      "text/plain": [
       "'k': ASCII/Unicode U+006B (category Ll: Letter, lowercase)"
      ]
     },
     "execution_count": 73,
     "metadata": {},
     "output_type": "execute_result"
    }
   ],
   "source": [
    "jee = \"kalaj\"\n",
    "jee[findall(x->x in \"jeeuuuta\", jee)]"
   ]
  },
  {
   "cell_type": "code",
   "execution_count": 78,
   "id": "57db61bb-2ef4-426c-802d-ea2f3b3ae769",
   "metadata": {},
   "outputs": [
    {
     "name": "stdout",
     "output_type": "stream",
     "text": [
      "1\n",
      "3\n",
      "5\n",
      "7\n",
      "9\n"
     ]
    }
   ],
   "source": [
    "for i=1:2:10\n",
    "    println(i)\n",
    "end"
   ]
  },
  {
   "cell_type": "code",
   "execution_count": 82,
   "id": "14d250b1-0c6e-4e06-8ca9-50672167bc2a",
   "metadata": {},
   "outputs": [
    {
     "data": {
      "text/plain": [
       "6"
      ]
     },
     "execution_count": 82,
     "metadata": {},
     "output_type": "execute_result"
    }
   ],
   "source": [
    "length(data)"
   ]
  },
  {
   "cell_type": "code",
   "execution_count": null,
   "id": "ad831933-ad77-4bc5-bc5e-24262e6c2bd5",
   "metadata": {},
   "outputs": [],
   "source": []
  }
 ],
 "metadata": {
  "kernelspec": {
   "display_name": "Julia 1.5.3",
   "language": "julia",
   "name": "julia-1.5"
  },
  "language_info": {
   "file_extension": ".jl",
   "mimetype": "application/julia",
   "name": "julia",
   "version": "1.5.3"
  }
 },
 "nbformat": 4,
 "nbformat_minor": 5
}
