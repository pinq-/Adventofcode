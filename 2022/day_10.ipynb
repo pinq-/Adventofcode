{
 "cells": [
  {
   "cell_type": "code",
   "execution_count": 108,
   "id": "ce30bfa4-496e-4280-bffe-f65f8387e06d",
   "metadata": {},
   "outputs": [
    {
     "data": {
      "text/plain": [
       "145-element Vector{String}:\n",
       " \"noop\"\n",
       " \"noop\"\n",
       " \"noop\"\n",
       " \"addx 6\"\n",
       " \"noop\"\n",
       " \"addx 30\"\n",
       " \"addx -26\"\n",
       " \"noop\"\n",
       " \"addx 5\"\n",
       " \"noop\"\n",
       " \"noop\"\n",
       " \"noop\"\n",
       " \"noop\"\n",
       " ⋮\n",
       " \"noop\"\n",
       " \"addx 3\"\n",
       " \"addx 2\"\n",
       " \"noop\"\n",
       " \"noop\"\n",
       " \"noop\"\n",
       " \"noop\"\n",
       " \"addx 7\"\n",
       " \"noop\"\n",
       " \"noop\"\n",
       " \"noop\"\n",
       " \"noop\""
      ]
     },
     "execution_count": 108,
     "metadata": {},
     "output_type": "execute_result"
    }
   ],
   "source": [
    "data = readlines(\"data_10.txt\")\n",
    "#data = readlines(\"expample.txt\")"
   ]
  },
  {
   "cell_type": "code",
   "execution_count": 103,
   "id": "bec43c7d-9082-4fcd-b480-722e18ae8b4c",
   "metadata": {},
   "outputs": [
    {
     "name": "stdout",
     "output_type": "stream",
     "text": [
      "21 20\n",
      "17 60\n",
      "21 100\n",
      "17 140\n",
      "21 180\n",
      "21 220\n"
     ]
    },
    {
     "data": {
      "text/plain": [
       "14320"
      ]
     },
     "execution_count": 103,
     "metadata": {},
     "output_type": "execute_result"
    }
   ],
   "source": [
    "#first\n",
    "index = 1\n",
    "X_start = 1\n",
    "cycle = 1\n",
    "add_cycle = 0\n",
    "pick = []\n",
    "while index < length(data)\n",
    "    line = data[index]\n",
    "    #println(index, \" \",line,\" \", add_cycle)\n",
    "    if line == \"noop\"\n",
    "        index += 1\n",
    "    elseif line[1] == 'a'\n",
    "        #println(\"add\")\n",
    "        if add_cycle == 1\n",
    "            addx = parse(Int,split(line,\" \")[2])\n",
    "            X_start += addx\n",
    "            add_cycle = 0\n",
    "            index += 1\n",
    "        else\n",
    "            add_cycle += 1\n",
    "        end\n",
    "    end\n",
    "    cycle += 1\n",
    "    if cycle in 20:40:220\n",
    "        println(X_start, \" \", cycle)\n",
    "        push!(pick, X_start * cycle)\n",
    "    end\n",
    "    #println(index, \" \", line, \" X:\", X_start, \" cycle:\", cycle, \" own_C:\", add_cycle)\n",
    "end\n",
    "sum(pick)"
   ]
  },
  {
   "cell_type": "code",
   "execution_count": 109,
   "id": "1f4c31f0-636a-4529-b264-90c19be3a896",
   "metadata": {},
   "outputs": [
    {
     "name": "stdout",
     "output_type": "stream",
     "text": [
      "###...##..###..###..#..#..##..###....##.\n",
      "#..#.#..#.#..#.#..#.#.#..#..#.#..#....#.\n",
      "#..#.#....#..#.###..##...#..#.#..#....#.\n",
      "###..#....###..#..#.#.#..####.###.....#.\n",
      "#....#..#.#....#..#.#.#..#..#.#....#..#.\n",
      "#.....##..#....###..#..#.#..#.#.....##..\n"
     ]
    }
   ],
   "source": [
    "#scond\n",
    "index = 1\n",
    "X_start = 1\n",
    "cycle = 1\n",
    "add_cycle = 0\n",
    "cycle_draw = 1\n",
    "pick = fill(\".\",40)\n",
    "pick[1] = \"#\"\n",
    "while index < length(data)\n",
    "    line = data[index]\n",
    "    #println(index, \" \",line,\" \", add_cycle)\n",
    "    if line == \"noop\"\n",
    "        index += 1\n",
    "    elseif line[1] == 'a'\n",
    "        #println(\"add\")\n",
    "        if add_cycle == 1\n",
    "            addx = parse(Int,split(line,\" \")[2])\n",
    "            X_start += addx\n",
    "            add_cycle = 0\n",
    "            index += 1\n",
    "        else\n",
    "            add_cycle += 1\n",
    "        end\n",
    "    end\n",
    "    cycle += 1\n",
    "    cycle_draw += 1\n",
    "    if cycle_draw in X_start:X_start+2\n",
    "        pick[cycle_draw] = \"#\"\n",
    "    end\n",
    "    if cycle in 1:40:240\n",
    "        println(join(pick))\n",
    "        pick = fill(\".\",40)\n",
    "        pick[1] = \"#\"\n",
    "        cycle_draw = 1\n",
    "            \n",
    "    end\n",
    "    #println(index, \" \", line, \" X:\", X_start, \" cycle:\", cycle, \" own_C:\", add_cycle)\n",
    "end\n",
    "println(join(pick))"
   ]
  },
  {
   "cell_type": "code",
   "execution_count": 78,
   "id": "5d063e06-4cc2-4afd-b7b3-5d81550ddf7e",
   "metadata": {},
   "outputs": [
    {
     "data": {
      "text/plain": [
       "40-element Vector{String}:\n",
       " \".\"\n",
       " \".\"\n",
       " \".\"\n",
       " \".\"\n",
       " \".\"\n",
       " \".\"\n",
       " \".\"\n",
       " \".\"\n",
       " \".\"\n",
       " \".\"\n",
       " \".\"\n",
       " \".\"\n",
       " \".\"\n",
       " ⋮\n",
       " \".\"\n",
       " \".\"\n",
       " \".\"\n",
       " \".\"\n",
       " \".\"\n",
       " \".\"\n",
       " \".\"\n",
       " \".\"\n",
       " \".\"\n",
       " \".\"\n",
       " \".\"\n",
       " \".\""
      ]
     },
     "execution_count": 78,
     "metadata": {},
     "output_type": "execute_result"
    }
   ],
   "source": [
    "kala = fill(\".\",40)"
   ]
  },
  {
   "cell_type": "code",
   "execution_count": 81,
   "id": "98cb811c-fd8f-478f-ac50-70aa45f3c6a8",
   "metadata": {},
   "outputs": [
    {
     "data": {
      "text/plain": [
       "\"#\""
      ]
     },
     "execution_count": 81,
     "metadata": {},
     "output_type": "execute_result"
    }
   ],
   "source": [
    "kala[2] = \"#\""
   ]
  },
  {
   "cell_type": "code",
   "execution_count": 87,
   "id": "ebbeec52-3851-4393-9452-ee19c013308d",
   "metadata": {},
   "outputs": [
    {
     "data": {
      "text/plain": [
       "\".#......................................\""
      ]
     },
     "execution_count": 87,
     "metadata": {},
     "output_type": "execute_result"
    }
   ],
   "source": [
    "join(kala)"
   ]
  },
  {
   "cell_type": "code",
   "execution_count": null,
   "id": "66f853c2-9b30-4f0a-95b3-d2cf192ba52e",
   "metadata": {},
   "outputs": [],
   "source": []
  }
 ],
 "metadata": {
  "kernelspec": {
   "display_name": "Julia 1.8.3",
   "language": "julia",
   "name": "julia-1.8"
  },
  "language_info": {
   "file_extension": ".jl",
   "mimetype": "application/julia",
   "name": "julia",
   "version": "1.8.3"
  }
 },
 "nbformat": 4,
 "nbformat_minor": 5
}
