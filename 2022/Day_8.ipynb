{
 "cells": [
  {
   "cell_type": "code",
   "execution_count": 377,
   "id": "c9f39b07-76c4-4451-afc2-5b306c3eb23b",
   "metadata": {},
   "outputs": [
    {
     "data": {
      "text/plain": [
       "99-element Vector{String}:\n",
       " \"0022200213122313122220333434213\" ⋯ 37 bytes ⋯ \"4013434333010230221020221020022\"\n",
       " \"1211221202020120201210430131022\" ⋯ 37 bytes ⋯ \"0302410221342010223030013102200\"\n",
       " \"0001021131022002323040333233312\" ⋯ 37 bytes ⋯ \"4103030341114102200110230210210\"\n",
       " \"2100002100113132301244214031310\" ⋯ 37 bytes ⋯ \"2312243334330011232213102110221\"\n",
       " \"0112212130132331012022144210142\" ⋯ 37 bytes ⋯ \"5431402040121341332111001213200\"\n",
       " \"1020112003230320420103004004334\" ⋯ 37 bytes ⋯ \"1425322110331241203233303212321\"\n",
       " \"1023331122331240113103120334333\" ⋯ 37 bytes ⋯ \"3454525133430430232301313012101\"\n",
       " \"2112111233034420310431231152134\" ⋯ 37 bytes ⋯ \"4541312331003041323121132333230\"\n",
       " \"0013212100133224120031451523525\" ⋯ 37 bytes ⋯ \"5455213434510131104234003003222\"\n",
       " \"2233002230212024234234435314141\" ⋯ 37 bytes ⋯ \"1321535315422410221142133031312\"\n",
       " \"2221002120432410011254542535234\" ⋯ 37 bytes ⋯ \"2224141255512031323011313003103\"\n",
       " \"0211211034031214434341324215534\" ⋯ 37 bytes ⋯ \"6535142445142544021324240001211\"\n",
       " \"1333320124124323331333454152143\" ⋯ 37 bytes ⋯ \"2655443241344522421402100130202\"\n",
       " ⋮\n",
       " \"3123213424422140554125421111455\" ⋯ 37 bytes ⋯ \"3445343525123442530123340220021\"\n",
       " \"1231013420241044232235214232143\" ⋯ 37 bytes ⋯ \"2463242344244522332431230422020\"\n",
       " \"3002022241244431401422253244535\" ⋯ 37 bytes ⋯ \"2333545341335424243412214111222\"\n",
       " \"2301033113003243201424225321444\" ⋯ 37 bytes ⋯ \"3345523535351332140310322302320\"\n",
       " \"1022131210414131303433123251413\" ⋯ 37 bytes ⋯ \"5134543235451400033131103312302\"\n",
       " \"2200100123230102232134141145345\" ⋯ 37 bytes ⋯ \"3543414344531223433101022121003\"\n",
       " \"1113031311324103403232105212544\" ⋯ 37 bytes ⋯ \"3353121223030123212013112122222\"\n",
       " \"2213000322033403223402143024425\" ⋯ 37 bytes ⋯ \"2334245223323243012130220310111\"\n",
       " \"2102021310213103122120421323431\" ⋯ 37 bytes ⋯ \"4114321412240003424203112223000\"\n",
       " \"1200012303220012301234434432021\" ⋯ 37 bytes ⋯ \"5231021342403441230201112313220\"\n",
       " \"0001013101020103021443433000323\" ⋯ 37 bytes ⋯ \"1440223210230440103301210001022\"\n",
       " \"1110210101301233000132342101120\" ⋯ 37 bytes ⋯ \"1032244142134422332001101011222\""
      ]
     },
     "execution_count": 377,
     "metadata": {},
     "output_type": "execute_result"
    }
   ],
   "source": [
    "data = readlines(\"data_8.txt\")\n",
    "#data = readlines(\"expample.txt\")"
   ]
  },
  {
   "cell_type": "code",
   "execution_count": 379,
   "id": "cb7f603c-c13f-4b6f-b142-1bec2a911140",
   "metadata": {},
   "outputs": [
    {
     "data": {
      "text/plain": [
       "99×99 adjoint(::Matrix{Any}) with eltype Any:\n",
       " 0  0  2  2  2  0  0  2  1  3  1  2  2  …  0  2  0  2  2  1  0  2  0  0  2  2\n",
       " 1  2  1  1  2  2  1  2  0  2  0  2  0     0  3  0  0  1  3  1  0  2  2  0  0\n",
       " 0  0  0  1  0  2  1  1  3  1  0  2  2     1  1  0  2  3  0  2  1  0  2  1  0\n",
       " 2  1  0  0  0  0  2  1  0  0  1  1  3     2  1  3  1  0  2  1  1  0  2  2  1\n",
       " 0  1  1  2  2  1  2  1  3  0  1  3  2     1  1  1  0  0  1  2  1  3  2  0  0\n",
       " 1  0  2  0  1  1  2  0  0  3  2  3  0  …  2  3  3  3  0  3  2  1  2  3  2  1\n",
       " 1  0  2  3  3  3  1  1  2  2  3  3  1     3  0  1  3  1  3  0  1  2  1  0  1\n",
       " 2  1  1  2  1  1  1  2  3  3  0  3  4     1  2  1  1  3  2  3  3  3  2  3  0\n",
       " 0  0  1  3  2  1  2  1  0  0  1  3  3     2  3  4  0  0  3  0  0  3  2  2  2\n",
       " 2  2  3  3  0  0  2  2  3  0  2  1  2     1  4  2  1  3  3  0  3  1  3  1  2\n",
       " 2  2  2  1  0  0  2  1  2  0  4  3  2  …  0  1  1  3  1  3  0  0  3  1  0  3\n",
       " 0  2  1  1  2  1  1  0  3  4  0  3  1     3  2  4  2  4  0  0  0  1  2  1  1\n",
       " 1  3  3  3  3  2  0  1  2  4  1  2  4     4  0  2  1  0  0  1  3  0  2  0  2\n",
       " ⋮              ⋮              ⋮        ⋱           ⋮              ⋮        \n",
       " 3  1  2  3  2  1  3  4  2  4  4  2  2     1  2  3  3  4  0  2  2  0  0  2  1\n",
       " 1  2  3  1  0  1  3  4  2  0  2  4  1     4  3  1  2  3  0  4  2  2  0  2  0\n",
       " 3  0  0  2  0  2  2  2  4  1  2  4  4     4  1  2  2  1  4  1  1  1  2  2  2\n",
       " 2  3  0  1  0  3  3  1  1  3  0  0  3  …  3  1  0  3  2  2  3  0  2  3  2  0\n",
       " 1  0  2  2  1  3  1  2  1  0  4  1  4     1  3  1  1  0  3  3  1  2  3  0  2\n",
       " 2  2  0  0  1  0  0  1  2  3  2  3  0     1  0  1  0  2  2  1  2  1  0  0  3\n",
       " 1  1  1  3  0  3  1  3  1  1  3  2  4     0  1  3  1  1  2  1  2  2  2  2  2\n",
       " 2  2  1  3  0  0  0  3  2  2  0  3  3     1  3  0  2  2  0  3  1  0  1  1  1\n",
       " 2  1  0  2  0  2  1  3  1  0  2  1  3  …  2  0  3  1  1  2  2  2  3  0  0  0\n",
       " 1  2  0  0  0  1  2  3  0  3  2  2  0     2  0  1  1  1  2  3  1  3  2  2  0\n",
       " 0  0  0  1  0  1  3  1  0  1  0  2  0     3  0  1  2  1  0  0  0  1  0  2  2\n",
       " 1  1  1  0  2  1  0  1  0  1  3  0  1     0  0  1  1  0  1  0  1  1  2  2  2"
      ]
     },
     "execution_count": 379,
     "metadata": {},
     "output_type": "execute_result"
    }
   ],
   "source": [
    "tree_map = []\n",
    "for line in data\n",
    "    m_line = [parse(Int,k) for k in line]\n",
    "    append!(tree_map,[parse(Int,k) for k in line])\n",
    "    # hcat(tree_map, m_line)\n",
    "end\n",
    "tree_map = reshape(tree_map,length(data) ,length(data))'\n",
    "# tree_map_in = tree_map[2:end-1,2:end-1]"
   ]
  },
  {
   "cell_type": "code",
   "execution_count": 276,
   "id": "ec446a14-c974-4a25-821b-67bda9a1a646",
   "metadata": {},
   "outputs": [
    {
     "data": {
      "text/plain": [
       "1814"
      ]
     },
     "execution_count": 276,
     "metadata": {},
     "output_type": "execute_result"
    }
   ],
   "source": [
    "#first\n",
    "extras = 0\n",
    "base = size(tree_map)[1]*4-4\n",
    "for y in 2:size(tree_map)[1] - 1\n",
    "    for x in 2:size(tree_map)[2] -1\n",
    "        if all(i -> i < tree_map[y,x],tree_map[y,begin:x - 1])\n",
    "            extras += 1\n",
    "        elseif all(i -> i < tree_map[y,x],tree_map[y,x + 1:end])\n",
    "            extras += 1\n",
    "        elseif all(i -> i < tree_map[y,x],tree_map[begin:y - 1,x])\n",
    "            extras += 1\n",
    "        elseif all(i -> i < tree_map[y,x],tree_map[y + 1:end,x])\n",
    "            extras += 1\n",
    "        end\n",
    "    end\n",
    "end\n",
    "base + extras"
   ]
  },
  {
   "cell_type": "code",
   "execution_count": 381,
   "id": "9b17c681-e1c2-4ce5-bb92-b29be94c4dd7",
   "metadata": {},
   "outputs": [
    {
     "data": {
      "text/plain": [
       "view_tree (generic function with 1 method)"
      ]
     },
     "execution_count": 381,
     "metadata": {},
     "output_type": "execute_result"
    }
   ],
   "source": [
    "function view_tree(trees, main_tree)\n",
    "    #println(trees, main_tree)\n",
    "    view_trees = []\n",
    "    for tree in trees\n",
    "        push!(view_trees, tree)\n",
    "        if tree >= main_tree\n",
    "           break\n",
    "        end\n",
    "            \n",
    "    end\n",
    "    return length(view_trees)\n",
    "end"
   ]
  },
  {
   "cell_type": "code",
   "execution_count": 383,
   "id": "cc5c52d1-de6d-48dd-b6d6-90a8d6dfa3ab",
   "metadata": {},
   "outputs": [
    {
     "data": {
      "text/plain": [
       "330786"
      ]
     },
     "execution_count": 383,
     "metadata": {},
     "output_type": "execute_result"
    }
   ],
   "source": [
    "#second\n",
    "extras = 0\n",
    "for y in 2:size(tree_map)[1] - 1\n",
    "    for x in 2:size(tree_map)[2] -1\n",
    "        view_distance = 1\n",
    "        view_distance *= view_tree(reverse(tree_map[y,begin:x - 1]), tree_map[y,x])\n",
    "        view_distance *= view_tree(tree_map[y,x + 1:end], tree_map[y,x])\n",
    "        view_distance *= view_tree(reverse(tree_map[begin:y - 1,x]), tree_map[y,x])\n",
    "        view_distance *= view_tree(tree_map[y + 1:end,x], tree_map[y,x])\n",
    "        #println(x,\" \", y, \" \", tree_map[y,x], \" \",  extras)\n",
    "        #println(view_distance)\n",
    "        if view_distance > extras\n",
    "            extras = view_distance\n",
    "            # println(x,\" \", y, \" \", tree_map[y,x], \" \",  extras)\n",
    "        end\n",
    "                \n",
    "    end\n",
    "end\n",
    "extras"
   ]
  },
  {
   "cell_type": "code",
   "execution_count": 345,
   "id": "84be5c5d-0e75-47bc-8c0f-08b033d330aa",
   "metadata": {},
   "outputs": [
    {
     "data": {
      "text/plain": [
       "0"
      ]
     },
     "execution_count": 345,
     "metadata": {},
     "output_type": "execute_result"
    }
   ],
   "source": [
    "extras"
   ]
  },
  {
   "cell_type": "code",
   "execution_count": 212,
   "id": "488d46fa-301f-4e9c-b46e-1de022027b8f",
   "metadata": {},
   "outputs": [
    {
     "data": {
      "text/plain": [
       "true"
      ]
     },
     "execution_count": 212,
     "metadata": {},
     "output_type": "execute_result"
    }
   ],
   "source": [
    "all(i -> i > 0,[1,2,3,54,5])"
   ]
  },
  {
   "cell_type": "code",
   "execution_count": null,
   "id": "6fe2cb67-2684-4226-b664-0be031fedc85",
   "metadata": {},
   "outputs": [],
   "source": []
  }
 ],
 "metadata": {
  "kernelspec": {
   "display_name": "Julia 1.8.3",
   "language": "julia",
   "name": "julia-1.8"
  },
  "language_info": {
   "file_extension": ".jl",
   "mimetype": "application/julia",
   "name": "julia",
   "version": "1.8.3"
  }
 },
 "nbformat": 4,
 "nbformat_minor": 5
}
