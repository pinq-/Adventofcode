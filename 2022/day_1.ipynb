{
 "cells": [
  {
   "cell_type": "code",
   "execution_count": 7,
   "id": "6288a93c-eebe-4e4f-847f-eb37052be2ef",
   "metadata": {},
   "outputs": [
    {
     "data": {
      "text/plain": [
       "2262-element Array{String,1}:\n",
       " \"5916\"\n",
       " \"7281\"\n",
       " \"1715\"\n",
       " \"3853\"\n",
       " \"10283\"\n",
       " \"1455\"\n",
       " \"7807\"\n",
       " \"6117\"\n",
       " \"\"\n",
       " \"33711\"\n",
       " \"6672\"\n",
       " \"\"\n",
       " \"3988\"\n",
       " ⋮\n",
       " \"50344\"\n",
       " \"\"\n",
       " \"5440\"\n",
       " \"5049\"\n",
       " \"7437\"\n",
       " \"2658\"\n",
       " \"8751\"\n",
       " \"3995\"\n",
       " \"1955\"\n",
       " \"4056\"\n",
       " \"7203\"\n",
       " \"3175\""
      ]
     },
     "execution_count": 7,
     "metadata": {},
     "output_type": "execute_result"
    }
   ],
   "source": [
    "data = readlines(\"data_1.txt\")"
   ]
  },
  {
   "cell_type": "code",
   "execution_count": 38,
   "id": "edba9b22-490d-4274-a319-c667ec4fe51f",
   "metadata": {},
   "outputs": [
    {
     "data": {
      "text/plain": [
       "71124"
      ]
     },
     "execution_count": 38,
     "metadata": {},
     "output_type": "execute_result"
    }
   ],
   "source": [
    "max_cal = 0\n",
    "ny_cal = 0\n",
    "for calor in data\n",
    "    if calor == \"\"\n",
    "        if ny_cal > max_cal\n",
    "            max_cal = ny_cal\n",
    "            #println(max_cal)\n",
    "        end\n",
    "        #println(ny_cal)\n",
    "        ny_cal = 0\n",
    "    else\n",
    "        #println(calor)\n",
    "        #println(ny_cal)\n",
    "        ny_cal += parse(Int,calor)\n",
    "    end\n",
    "end\n",
    "max_cal"
   ]
  },
  {
   "cell_type": "code",
   "execution_count": 59,
   "id": "7fecebca-9366-478a-b615-37522f6c8a65",
   "metadata": {},
   "outputs": [
    {
     "data": {
      "text/plain": [
       "2-element Array{Int64,1}:\n",
       " 45\n",
       "  7"
      ]
     },
     "execution_count": 59,
     "metadata": {},
     "output_type": "execute_result"
    }
   ],
   "source": [
    "kala = [1,2,45,2,7]\n",
    "maximum(kala)\n",
    "kala = sort(kala, rev=true)\n",
    "kala[1:2]"
   ]
  },
  {
   "cell_type": "code",
   "execution_count": 61,
   "id": "6be1133c-d4f5-420f-bf6f-dae9c8c5321c",
   "metadata": {},
   "outputs": [
    {
     "data": {
      "text/plain": [
       "204639"
      ]
     },
     "execution_count": 61,
     "metadata": {},
     "output_type": "execute_result"
    }
   ],
   "source": [
    "max_cal_list = []\n",
    "ny_cal_2 = 0\n",
    "for calor in data\n",
    "    if calor == \"\"\n",
    "        push!(max_cal_list, ny_cal_2) \n",
    "        ny_cal_2 = 0\n",
    "    else\n",
    "        #println(calor)\n",
    "        #println(ny_cal)\n",
    "        ny_cal_2 += parse(Int,calor)\n",
    "    end\n",
    "    \n",
    "end\n",
    "max_cal_list = sort(max_cal_list,rev=true)\n",
    "sum(max_cal_list[1:3])"
   ]
  },
  {
   "cell_type": "code",
   "execution_count": 20,
   "id": "7721cc85-9264-43d3-9710-9752edb4f19b",
   "metadata": {},
   "outputs": [
    {
     "data": {
      "text/plain": [
       "0"
      ]
     },
     "execution_count": 20,
     "metadata": {},
     "output_type": "execute_result"
    }
   ],
   "source": [
    "kala = 0"
   ]
  },
  {
   "cell_type": "code",
   "execution_count": 23,
   "id": "5fc7b4ec-d1df-47d7-89f9-3a973c3e4275",
   "metadata": {},
   "outputs": [
    {
     "data": {
      "text/plain": [
       "4"
      ]
     },
     "execution_count": 23,
     "metadata": {},
     "output_type": "execute_result"
    }
   ],
   "source": [
    "kala += 2"
   ]
  },
  {
   "cell_type": "code",
   "execution_count": 24,
   "id": "f1909909-fc5e-409e-b3b3-4c5996e01f8c",
   "metadata": {},
   "outputs": [
    {
     "data": {
      "text/plain": [
       "4"
      ]
     },
     "execution_count": 24,
     "metadata": {},
     "output_type": "execute_result"
    }
   ],
   "source": [
    "kala"
   ]
  },
  {
   "cell_type": "code",
   "execution_count": null,
   "id": "53bdb937-86cb-408a-b388-d2736ae81d20",
   "metadata": {},
   "outputs": [],
   "source": []
  }
 ],
 "metadata": {
  "kernelspec": {
   "display_name": "Julia 1.5.3",
   "language": "julia",
   "name": "julia-1.5"
  },
  "language_info": {
   "file_extension": ".jl",
   "mimetype": "application/julia",
   "name": "julia",
   "version": "1.5.3"
  }
 },
 "nbformat": 4,
 "nbformat_minor": 5
}
