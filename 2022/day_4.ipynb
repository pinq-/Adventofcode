{
 "cells": [
  {
   "cell_type": "code",
   "execution_count": 101,
   "id": "7393e225-dba4-409d-940b-998066f1ac3b",
   "metadata": {},
   "outputs": [
    {
     "data": {
      "text/plain": [
       "1000-element Vector{String}:\n",
       " \"94-97,31-95\"\n",
       " \"7-8,11-95\"\n",
       " \"25-96,3-96\"\n",
       " \"6-17,5-16\"\n",
       " \"35-48,18-49\"\n",
       " \"5-6,5-98\"\n",
       " \"77-78,63-79\"\n",
       " \"56-56,28-56\"\n",
       " \"84-85,22-85\"\n",
       " \"35-62,34-74\"\n",
       " \"9-89,88-88\"\n",
       " \"20-47,11-20\"\n",
       " \"3-50,1-4\"\n",
       " ⋮\n",
       " \"22-65,11-23\"\n",
       " \"2-62,13-61\"\n",
       " \"17-40,36-40\"\n",
       " \"8-89,5-93\"\n",
       " \"29-73,28-74\"\n",
       " \"21-96,21-95\"\n",
       " \"67-86,66-87\"\n",
       " \"23-83,82-82\"\n",
       " \"72-74,73-86\"\n",
       " \"96-97,17-97\"\n",
       " \"5-7,6-79\"\n",
       " \"23-54,22-55\""
      ]
     },
     "execution_count": 101,
     "metadata": {},
     "output_type": "execute_result"
    }
   ],
   "source": [
    "data = readlines(\"data_4.txt\")\n",
    "#data = readlines(\"expample.txt\")"
   ]
  },
  {
   "cell_type": "code",
   "execution_count": 2,
   "id": "b377d1d8-700d-416f-9095-fbdba30ae11c",
   "metadata": {},
   "outputs": [
    {
     "data": {
      "text/plain": [
       "Set{StepRange{Int64, Int64}}()"
      ]
     },
     "execution_count": 2,
     "metadata": {},
     "output_type": "execute_result"
    }
   ],
   "source": [
    "set1 = Set([0:1:10]);\n",
    "set2 = Set([2:1:5]);\n",
    "intersect(set1,set2)"
   ]
  },
  {
   "cell_type": "code",
   "execution_count": 92,
   "id": "29a55c1c-6b26-43a0-89cc-b39405c42a5f",
   "metadata": {},
   "outputs": [
    {
     "data": {
      "text/plain": [
       "567"
      ]
     },
     "execution_count": 92,
     "metadata": {},
     "output_type": "execute_result"
    }
   ],
   "source": [
    "# first\n",
    "all_assi = 0\n",
    "for line in data\n",
    "    raw_d = split(line, \",\")\n",
    "    raw_d_1 = split(raw_d[1], \"-\")\n",
    "    raw_d_2 = split(raw_d[2], \"-\")\n",
    "    raw_d_1 = [parse(Int64, x) for x in raw_d_1]\n",
    "    raw_d_2 = [parse(Int64, x) for x in raw_d_2]\n",
    "    #println(raw_d_1, raw_d_2)\n",
    "    if (raw_d_1[2] >= raw_d_2[2] && raw_d_1[1] <= raw_d_2[1])\n",
    "        #println(\"eka\",raw_d_1, raw_d_2)\n",
    "        all_assi += 1\n",
    "    elseif raw_d_2[1] <= raw_d_1[1] && raw_d_2[2] >= raw_d_1[2]\n",
    "        #println(\"toka\",raw_d_2, raw_d_1)\n",
    "        all_assi += 1\n",
    "    end\n",
    "    #println(raw_d_2, raw_d_1)\n",
    "    #println(raw_d_1[1]:raw_d_1[2])\n",
    "    #push!( all_assi, raw_d_1)\n",
    "    #push!( all_assi, raw_d_2)\n",
    "end\n",
    "#=\n",
    "for (ind, ele) in enumerate(all_assi)\n",
    "    #println(ind, ele)\n",
    "    for chek in all_assi[ind+1:end]\n",
    "        tsek = collect(intersect(ele[1]:ele[2], chek[1]:chek[2]))\n",
    "        if !isempty(tsek)\n",
    "            if length(tsek) == length(chek[1]:chek[2])\n",
    "                println(ele, chek)\n",
    "            end\n",
    "        end\n",
    "    end\n",
    "end\n",
    "=#\n",
    "all_assi"
   ]
  },
  {
   "cell_type": "code",
   "execution_count": 102,
   "id": "4368ffd6-19c5-4d2b-a8be-a309873a6667",
   "metadata": {},
   "outputs": [
    {
     "data": {
      "text/plain": [
       "907"
      ]
     },
     "execution_count": 102,
     "metadata": {},
     "output_type": "execute_result"
    }
   ],
   "source": [
    "#second\n",
    "all_assi = 0\n",
    "for line in data\n",
    "    raw_d = split(line, \",\")\n",
    "    raw_d_1 = split(raw_d[1], \"-\")\n",
    "    raw_d_2 = split(raw_d[2], \"-\")\n",
    "    raw_d_1 = [parse(Int64, x) for x in raw_d_1]\n",
    "    raw_d_2 = [parse(Int64, x) for x in raw_d_2]\n",
    "    #println(raw_d_1, raw_d_2)\n",
    "    if !isempty(collect(intersect(raw_d_1[1]:raw_d_1[2], raw_d_2[1]:raw_d_2[2])))\n",
    "        all_assi += 1\n",
    "    end\n",
    "end\n",
    "all_assi"
   ]
  },
  {
   "cell_type": "code",
   "execution_count": 60,
   "id": "39ded216-0f3c-4fc8-a74c-6ac72846816a",
   "metadata": {},
   "outputs": [
    {
     "data": {
      "text/plain": [
       "3"
      ]
     },
     "execution_count": 60,
     "metadata": {},
     "output_type": "execute_result"
    }
   ],
   "source": [
    "length(1:3)"
   ]
  },
  {
   "cell_type": "code",
   "execution_count": 93,
   "id": "b7850d39-34cc-4164-ba9f-51e0109967a2",
   "metadata": {},
   "outputs": [
    {
     "data": {
      "text/plain": [
       "1-element Vector{Int64}:\n",
       " 3"
      ]
     },
     "execution_count": 93,
     "metadata": {},
     "output_type": "execute_result"
    }
   ],
   "source": [
    "collect(intersect(2:3,3:6))"
   ]
  },
  {
   "cell_type": "code",
   "execution_count": null,
   "id": "1c5fe103-6180-4ac7-8489-b6a73e17c6d8",
   "metadata": {},
   "outputs": [],
   "source": []
  }
 ],
 "metadata": {
  "kernelspec": {
   "display_name": "Julia 1.8.3",
   "language": "julia",
   "name": "julia-1.8"
  },
  "language_info": {
   "file_extension": ".jl",
   "mimetype": "application/julia",
   "name": "julia",
   "version": "1.8.3"
  }
 },
 "nbformat": 4,
 "nbformat_minor": 5
}
