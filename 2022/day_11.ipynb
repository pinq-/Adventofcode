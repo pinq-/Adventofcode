{
 "cells": [
  {
   "cell_type": "code",
   "execution_count": 1,
   "id": "b8f5a289-4964-400c-b84a-9d3fa9b8c961",
   "metadata": {},
   "outputs": [
    {
     "data": {
      "text/plain": [
       "27-element Vector{String}:\n",
       " \"Monkey 0:\"\n",
       " \"  Starting items: 79, 98\"\n",
       " \"  Operation: new = old * 19\"\n",
       " \"  Test: divisible by 23\"\n",
       " \"    If true: throw to monkey 2\"\n",
       " \"    If false: throw to monkey 3\"\n",
       " \"\"\n",
       " \"Monkey 1:\"\n",
       " \"  Starting items: 54, 65, 75, 74\"\n",
       " \"  Operation: new = old + 6\"\n",
       " \"  Test: divisible by 19\"\n",
       " \"    If true: throw to monkey 2\"\n",
       " \"    If false: throw to monkey 0\"\n",
       " ⋮\n",
       " \"  Starting items: 79, 60, 97\"\n",
       " \"  Operation: new = old * old\"\n",
       " \"  Test: divisible by 13\"\n",
       " \"    If true: throw to monkey 1\"\n",
       " \"    If false: throw to monkey 3\"\n",
       " \"\"\n",
       " \"Monkey 3:\"\n",
       " \"  Starting items: 74\"\n",
       " \"  Operation: new = old + 3\"\n",
       " \"  Test: divisible by 17\"\n",
       " \"    If true: throw to monkey 0\"\n",
       " \"    If false: throw to monkey 1\""
      ]
     },
     "execution_count": 1,
     "metadata": {},
     "output_type": "execute_result"
    }
   ],
   "source": [
    "#data = readlines(\"data_11.txt\")\n",
    "data = readlines(\"expample.txt\")"
   ]
  },
  {
   "cell_type": "code",
   "execution_count": 7,
   "id": "4e395780-3c6d-40e3-b8cb-26f3fbaf33e4",
   "metadata": {},
   "outputs": [],
   "source": [
    "struct monkey\n",
    "    myname::String\n",
    "    age::Int64\n",
    "end"
   ]
  },
  {
   "cell_type": "code",
   "execution_count": 11,
   "id": "bb57a119-f33c-42e6-85e2-4540151b9e9d",
   "metadata": {},
   "outputs": [
    {
     "data": {
      "text/plain": [
       "3-element Vector{Person}:\n",
       " Person(\"kala\", 2)\n",
       " Person(\"kala\", 2)\n",
       " Person(\"kala\", 3)"
      ]
     },
     "execution_count": 11,
     "metadata": {},
     "output_type": "execute_result"
    }
   ],
   "source": [
    "jee = Person.(\"kala\", [2,2,3])"
   ]
  },
  {
   "cell_type": "code",
   "execution_count": 5,
   "id": "980c7c0c-faab-4d1c-928b-43aed8e84aed",
   "metadata": {},
   "outputs": [
    {
     "data": {
      "text/plain": [
       "\"kala\""
      ]
     },
     "execution_count": 5,
     "metadata": {},
     "output_type": "execute_result"
    }
   ],
   "source": [
    "jee.myname"
   ]
  },
  {
   "cell_type": "code",
   "execution_count": null,
   "id": "dd627e88-5ab0-412e-aeeb-af9665c72b21",
   "metadata": {},
   "outputs": [],
   "source": []
  }
 ],
 "metadata": {
  "kernelspec": {
   "display_name": "Julia 1.8.3",
   "language": "julia",
   "name": "julia-1.8"
  },
  "language_info": {
   "file_extension": ".jl",
   "mimetype": "application/julia",
   "name": "julia",
   "version": "1.8.3"
  }
 },
 "nbformat": 4,
 "nbformat_minor": 5
}
