{
 "cells": [
  {
   "cell_type": "code",
   "execution_count": 196,
   "id": "1fc1cbeb-a332-4d1d-8c08-2adaa74dd0ca",
   "metadata": {},
   "outputs": [
    {
     "data": {
      "text/plain": [
       "512-element Vector{String}:\n",
       " \"[P]     [L]         [T]            \"\n",
       " \"[L]     [M] [G]     [G]     [S]    \"\n",
       " \"[M]     [Q] [W]     [H] [R] [G]    \"\n",
       " \"[N]     [F] [M]     [D] [V] [R] [N]\"\n",
       " \"[W]     [G] [Q] [P] [J] [F] [M] [C]\"\n",
       " \"[V] [H] [B] [F] [H] [M] [B] [H] [B]\"\n",
       " \"[B] [Q] [D] [T] [T] [B] [N] [L] [D]\"\n",
       " \"[H] [M] [N] [Z] [M] [C] [M] [P] [P]\"\n",
       " \" 1   2   3   4   5   6   7   8   9 \"\n",
       " \"\"\n",
       " \"move 8 from 3 to 2\"\n",
       " \"move 1 from 9 to 5\"\n",
       " \"move 5 from 4 to 7\"\n",
       " ⋮\n",
       " \"move 1 from 3 to 9\"\n",
       " \"move 5 from 5 to 2\"\n",
       " \"move 1 from 8 to 3\"\n",
       " \"move 2 from 4 to 7\"\n",
       " \"move 1 from 9 to 4\"\n",
       " \"move 1 from 6 to 7\"\n",
       " \"move 2 from 5 to 2\"\n",
       " \"move 2 from 4 to 8\"\n",
       " \"move 2 from 5 to 8\"\n",
       " \"move 5 from 7 to 9\"\n",
       " \"move 27 from 7 to 5\"\n",
       " \"move 2 from 9 to 6\""
      ]
     },
     "execution_count": 196,
     "metadata": {},
     "output_type": "execute_result"
    }
   ],
   "source": [
    "data = readlines(\"data_5.txt\")\n",
    "#data = readlines(\"expample.txt\")"
   ]
  },
  {
   "cell_type": "code",
   "execution_count": 192,
   "id": "14232ca5-aa6c-4e26-89d1-996ab2972732",
   "metadata": {},
   "outputs": [
    {
     "name": "stdout",
     "output_type": "stream",
     "text": [
      "WHTLRMZRC"
     ]
    }
   ],
   "source": [
    "#fisrt\n",
    "stack = []\n",
    "for line in data\n",
    "    if line != \"\" && line[1:4] == \"move\"\n",
    "        #println(line)\n",
    "        move = split(line, \" \")\n",
    "        move = [parse(Int,x) for x in move if isdigit(x[1])]\n",
    "        stack[move[3]] *= reverse(stack[move[2]][end-(-1+move[1]):end])\n",
    "        stack[move[2]] = stack[move[2]][begin:end-move[1]]\n",
    "        #push!(moves, move)\n",
    "        #println(moves)\n",
    "        #result = filter(isdigit, kala)\n",
    "        #println(result)\n",
    "    elseif line == \"\"\n",
    "        stack = [reverse(x) for x in stack]\n",
    "    elseif line != \"\" && !isdigit(line[2])\n",
    "        if length(stack) == 0\n",
    "           stack = Array{Any}(undef,length(2:4:length(line))) \n",
    "        end\n",
    "        for (index,x) in enumerate(2:4:length(line))\n",
    "            if line[x] != ' '\n",
    "                if isassigned(stack, index)\n",
    "                    stack[index] *= line[x]\n",
    "                else\n",
    "                    stack[index] = string(line[x])\n",
    "                end\n",
    "            end\n",
    "        end\n",
    "    end\n",
    "end\n",
    "for stock in stack\n",
    "    print(stock[end])\n",
    "end"
   ]
  },
  {
   "cell_type": "code",
   "execution_count": 197,
   "id": "f6385b05-4c87-4292-ae09-ff104729fe98",
   "metadata": {},
   "outputs": [
    {
     "name": "stdout",
     "output_type": "stream",
     "text": [
      "GMPMLWNMG"
     ]
    }
   ],
   "source": [
    "#second\n",
    "stack = []\n",
    "for line in data\n",
    "    if line != \"\" && line[1:4] == \"move\"\n",
    "        #println(line)\n",
    "        move = split(line, \" \")\n",
    "        move = [parse(Int,x) for x in move if isdigit(x[1])]\n",
    "        stack[move[3]] *= stack[move[2]][end-(-1+move[1]):end]\n",
    "        stack[move[2]] = stack[move[2]][begin:end-move[1]]\n",
    "        #push!(moves, move)\n",
    "        #println(moves)\n",
    "        #result = filter(isdigit, kala)\n",
    "        #println(result)\n",
    "    elseif line == \"\"\n",
    "        stack = [reverse(x) for x in stack]\n",
    "    elseif line != \"\" && !isdigit(line[2])\n",
    "        if length(stack) == 0\n",
    "           stack = Array{Any}(undef,length(2:4:length(line))) \n",
    "        end\n",
    "        for (index,x) in enumerate(2:4:length(line))\n",
    "            if line[x] != ' '\n",
    "                if isassigned(stack, index)\n",
    "                    stack[index] *= line[x]\n",
    "                else\n",
    "                    stack[index] = string(line[x])\n",
    "                end\n",
    "            end\n",
    "        end\n",
    "    end\n",
    "end\n",
    "for stock in stack\n",
    "    print(stock[end])\n",
    "end"
   ]
  }
 ],
 "metadata": {
  "kernelspec": {
   "display_name": "Julia 1.8.3",
   "language": "julia",
   "name": "julia-1.8"
  },
  "language_info": {
   "file_extension": ".jl",
   "mimetype": "application/julia",
   "name": "julia",
   "version": "1.8.3"
  }
 },
 "nbformat": 4,
 "nbformat_minor": 5
}
