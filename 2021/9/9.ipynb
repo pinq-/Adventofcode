{
 "cells": [
  {
   "cell_type": "code",
   "execution_count": null,
   "id": "ceeeff6d-5327-478b-88cd-c881b0cf124f",
   "metadata": {},
   "outputs": [],
   "source": []
  },
  {
   "cell_type": "code",
   "execution_count": 93,
   "id": "32832e9b",
   "metadata": {},
   "outputs": [],
   "source": [
    "import datetime\n",
    "import time\n",
    "from scipy import ndimage\n",
    "import numpy as np"
   ]
  },
  {
   "cell_type": "code",
   "execution_count": 117,
   "id": "8cd68574",
   "metadata": {},
   "outputs": [],
   "source": [
    "def read_file():\n",
    "    day = datetime.datetime.now().day\n",
    "    file = \"input.txt\"\n",
    "    #file = \"testi.txt\"\n",
    "    with open(file, \"r\") as inputfile:\n",
    "        data = np.array([[int(k) for k in i] for i in inputfile.read().splitlines()])\n",
    "    return data"
   ]
  },
  {
   "cell_type": "code",
   "execution_count": 118,
   "id": "98496e6b",
   "metadata": {},
   "outputs": [],
   "source": [
    "def run_task():\n",
    "    t0 = time.time()\n",
    "    data = read_file()\n",
    "    #first_star(data)\n",
    "    second_star(data)\n",
    "    t1 = time.time()\n",
    "    # print(data)\n",
    "    print(\"aikaa meni:\",round(t1-t0,4), \"s\")"
   ]
  },
  {
   "cell_type": "code",
   "execution_count": 119,
   "id": "086feb83",
   "metadata": {},
   "outputs": [],
   "source": [
    "def first_star(data):\n",
    "    low_values = []\n",
    "    #print(data)\n",
    "    for iny, value_y in enumerate(data):\n",
    "        for inx, value_x in enumerate(value_y):\n",
    "            adjacents = [(iny -1 , inx), (iny, inx - 1), (iny, inx + 1), (iny + 1, inx)]\n",
    "            adj_v = []\n",
    "            for ina, adj in enumerate(adjacents):\n",
    "                if adj[0] > -1 and adj[1] > -1 and adj[0] < len(data) and adj[1] < len(value_y):\n",
    "                    adj_v.append(data[adj[0],adj[1]])\n",
    "            # print(data[iny,inx],adj_v)\n",
    "            if min(adj_v) > data[iny,inx]:\n",
    "                #print(iny,inx,data[iny,inx],adj_v)\n",
    "                low_values.append(data[iny,inx])\n",
    "    low_values = sum([value + 1 for value in low_values])\n",
    "    print(low_values)\n",
    "    \n",
    "    return 0"
   ]
  },
  {
   "cell_type": "code",
   "execution_count": 122,
   "id": "108b615c",
   "metadata": {},
   "outputs": [],
   "source": [
    "def second_star(data):\n",
    "    label, num_label = ndimage.label(data < 9)\n",
    "    size = np.bincount(label.ravel())\n",
    "    #biggest_label = size[1:].argmax()\n",
    "    #print(biggest_label)\n",
    "    three_valu = sorted(size[1:], reverse=True)[:3]\n",
    "    print(np.prod(three_valu))\n",
    "    return 0"
   ]
  },
  {
   "cell_type": "code",
   "execution_count": 123,
   "id": "9787e78b",
   "metadata": {},
   "outputs": [
    {
     "name": "stdout",
     "output_type": "stream",
     "text": [
      "1050192\n",
      "aikaa meni: 0.0 s\n"
     ]
    }
   ],
   "source": [
    "run_task()"
   ]
  },
  {
   "cell_type": "code",
   "execution_count": null,
   "id": "e11a3418-667c-4d53-a910-a7a838026133",
   "metadata": {},
   "outputs": [],
   "source": [
    "\n",
    "    "
   ]
  },
  {
   "cell_type": "code",
   "execution_count": 77,
   "id": "2ed4dd3c-3f4e-43af-abcb-74e299838635",
   "metadata": {},
   "outputs": [],
   "source": []
  },
  {
   "cell_type": "code",
   "execution_count": null,
   "id": "a8ce58e6-a92b-4ca0-8d74-43f6f968e224",
   "metadata": {},
   "outputs": [],
   "source": []
  }
 ],
 "metadata": {
  "kernelspec": {
   "display_name": "Python 3",
   "language": "python",
   "name": "python3"
  },
  "language_info": {
   "codemirror_mode": {
    "name": "ipython",
    "version": 3
   },
   "file_extension": ".py",
   "mimetype": "text/x-python",
   "name": "python",
   "nbconvert_exporter": "python",
   "pygments_lexer": "ipython3",
   "version": "3.6.13"
  }
 },
 "nbformat": 4,
 "nbformat_minor": 5
}
