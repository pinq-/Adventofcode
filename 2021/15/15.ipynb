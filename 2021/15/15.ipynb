{
 "cells": [
  {
   "cell_type": "code",
   "execution_count": 3,
   "id": "32832e9b",
   "metadata": {},
   "outputs": [],
   "source": [
    "import time\n",
    "import datetime\n",
    "import numpy as np"
   ]
  },
  {
   "cell_type": "code",
   "execution_count": 4,
   "id": "90dba164-9e1d-4ffc-ac3d-baae920e4025",
   "metadata": {},
   "outputs": [],
   "source": [
    "start_time = time.time()"
   ]
  },
  {
   "cell_type": "code",
   "execution_count": 1,
   "id": "8cd68574",
   "metadata": {},
   "outputs": [],
   "source": [
    "def read_file():\n",
    "    #file = \"input.txt\"\n",
    "    file = \"testi.txt\"\n",
    "    with open(file, \"r\") as inputfile:\n",
    "         data = np.array([[int(k) for k in i] for i in inputfile.read().splitlines()])\n",
    "    return data"
   ]
  },
  {
   "cell_type": "code",
   "execution_count": 2,
   "id": "98496e6b",
   "metadata": {},
   "outputs": [],
   "source": [
    "def run_task(task):\n",
    "    t0 = time.time()\n",
    "    data = read_file()\n",
    "    if task == 1:\n",
    "        first_star(data)\n",
    "    else:\n",
    "        second_star(data)\n",
    "    t1 = time.time()\n",
    "    # print(data)\n",
    "    print(\"tehtävän ajoon aikaa meni:\", round(t1-t0,4), \"s\")\n",
    "    print('tehtävän suorittamiseen meni:', datetime.timedelta(seconds=round(t1-start_time)), \"s\")"
   ]
  },
  {
   "cell_type": "code",
   "execution_count": 3,
   "id": "ce865a3c-2ec7-4fa8-80dc-33dc642d5d50",
   "metadata": {},
   "outputs": [],
   "source": [
    "def calc_path_risk(data_map, path):\n",
    "    risk = 0\n",
    "    for point in path:\n",
    "        if point != (0,0):\n",
    "            risk += data_map[point]\n",
    "    return risk"
   ]
  },
  {
   "cell_type": "code",
   "execution_count": 4,
   "id": "fff43e53-87cb-458d-97c8-231c07eac67d",
   "metadata": {},
   "outputs": [],
   "source": [
    "def test_if_in_area(shape, point):\n",
    "    if point[0] < 0 or point[0] > shape[0] - 1 or point[1] < 0 or point[1] > shape[1] - 1:\n",
    "        return False\n",
    "    else:\n",
    "        return True"
   ]
  },
  {
   "cell_type": "code",
   "execution_count": 228,
   "id": "409d308b-1506-490f-a223-1046f9d79caf",
   "metadata": {},
   "outputs": [],
   "source": [
    "def adjacents(shape, point, diagonal = 0, forwrd = 0):\n",
    "    adjents\n",
    "    if diagonal:\n",
    "        adjents = [(point[0] - 1 , point[1] - 1), (point[0] - 1 , point[1]), (point[0] - 1 , point[1] + 1), (point[0] , point[1] - 1), (point[0] , point[1] + 1), (point[0] + 1 , point[1] - 1), (point[0] + 1 , point[1]), (point[0] + 1 , point[1] + 1)]\n",
    "    elif not forwrd:\n",
    "        adjents = [(point[0] - 1 , point[1]), (point[0] , point[1] - 1), (point[0] , point[1] + 1), (point[0] + 1 , point[1])]\n",
    "    else:\n",
    "        adjents = [(point[0] + 1 , point[1]), (point[0] , point[1] + 1)]\n",
    "    for i in adjents:\n",
    "        if not test_if_in_area(shape, i):\n",
    "            adjents.remove(i)\n",
    "    return adjents"
   ]
  },
  {
   "cell_type": "code",
   "execution_count": 223,
   "id": "a615418a-3874-4046-b2d1-1a3ba9651bd9",
   "metadata": {},
   "outputs": [],
   "source": [
    "# global values\n",
    "sum_path = 5000\n",
    "turns = 0\n",
    "def find_all_paths(data_map, start, end, path):\n",
    "    global sum_path, turns\n",
    "    # path.append(start)\n",
    "    path = path + [start]\n",
    "    # print(path)\n",
    "    result = calc_path_risk(data_map, path)\n",
    "    if sum_path < result:\n",
    "        return 0\n",
    "    if start == end:\n",
    "        if sum_path > result:\n",
    "            sum_path = result\n",
    "            turns += 1\n",
    "            print(sum_path, turns)\n",
    "        return 0\n",
    "    adj = adjacents(start,0,1)\n",
    "    for node in adj:\n",
    "        if test_if_in_area(data_map.shape, node):\n",
    "            #print(node)\n",
    "            if node not in path:\n",
    "                find_all_paths(data_map, node, end, path)"
   ]
  },
  {
   "cell_type": "code",
   "execution_count": 234,
   "id": "c208014e-9305-46cc-a151-0f6b08472796",
   "metadata": {},
   "outputs": [],
   "source": [
    "def BFS(board, start, end):\n",
    "    queue = list()\n",
    "    queue.append(start)\n",
    "    visited = set()\n",
    "\n",
    "  # this keeps track of where did we get to each vertex from\n",
    "  # so that after we find the exit we can get back\n",
    "    parents = dict()\n",
    "    parents[start] = None\n",
    "\n",
    "    while queue:\n",
    "        v = queue[0]\n",
    "        if (v[0],v[1]) == end:\n",
    "            break\n",
    "        queue = queue[1:]   # this is inefficient, an actual queue should be used \n",
    "        visited.add(v)\n",
    "        for u in adjacents(board.shape, point):\n",
    "            if u not in visited:\n",
    "                parents[u] = v\n",
    "                queue.append(u)\n",
    "\n",
    "      # we found the exit, now we have to go through the parents \n",
    "      # up to the start vertex to return the path\n",
    "    print(parents)\n",
    "#     path = list()\n",
    "#     while v != None:\n",
    "#         path.append(v)\n",
    "#         v = parents[v]\n",
    "\n",
    "#       # the path is in the reversed order so we reverse it \n",
    "#     path = reverse(path)\n",
    "#     return path\n"
   ]
  },
  {
   "cell_type": "code",
   "execution_count": 235,
   "id": "086feb83",
   "metadata": {},
   "outputs": [],
   "source": [
    "def first_star(data):\n",
    "    global sum_path\n",
    "    sum_path = sum(data[0,1:] + data[1:,data.shape[1] - 1])\n",
    "    # print(test_if_in_area(data.shape, (9,0)))\n",
    "    # find_all_paths(data, (0,0), (data.shape[0] - 1, data.shape[1] - 1), [])\n",
    "    BFS(data, (0,0), (data.shape[0] - 1, data.shape[1] - 1))\n",
    "    # findPaths(data, [], 0, 0)\n",
    "    return 0"
   ]
  },
  {
   "cell_type": "code",
   "execution_count": 236,
   "id": "ca5d01d5-fe17-41fc-a90b-dad6e7e5020a",
   "metadata": {},
   "outputs": [
    {
     "ename": "NameError",
     "evalue": "name 'point' is not defined",
     "output_type": "error",
     "traceback": [
      "\u001b[1;31m---------------------------------------------------------------------------\u001b[0m",
      "\u001b[1;31mNameError\u001b[0m                                 Traceback (most recent call last)",
      "\u001b[1;32m<ipython-input-236-9ff9ff85b5a2>\u001b[0m in \u001b[0;36m<module>\u001b[1;34m\u001b[0m\n\u001b[1;32m----> 1\u001b[1;33m \u001b[0mrun_task\u001b[0m\u001b[1;33m(\u001b[0m\u001b[1;36m1\u001b[0m\u001b[1;33m)\u001b[0m\u001b[1;33m\u001b[0m\u001b[1;33m\u001b[0m\u001b[0m\n\u001b[0m\u001b[0;32m      2\u001b[0m \u001b[0mprint\u001b[0m\u001b[1;33m(\u001b[0m\u001b[0msum_path\u001b[0m\u001b[1;33m)\u001b[0m\u001b[1;33m\u001b[0m\u001b[1;33m\u001b[0m\u001b[0m\n",
      "\u001b[1;32m<ipython-input-227-4d555e24a9f4>\u001b[0m in \u001b[0;36mrun_task\u001b[1;34m(task)\u001b[0m\n\u001b[0;32m      3\u001b[0m     \u001b[0mdata\u001b[0m \u001b[1;33m=\u001b[0m \u001b[0mread_file\u001b[0m\u001b[1;33m(\u001b[0m\u001b[1;33m)\u001b[0m\u001b[1;33m\u001b[0m\u001b[1;33m\u001b[0m\u001b[0m\n\u001b[0;32m      4\u001b[0m     \u001b[1;32mif\u001b[0m \u001b[0mtask\u001b[0m \u001b[1;33m==\u001b[0m \u001b[1;36m1\u001b[0m\u001b[1;33m:\u001b[0m\u001b[1;33m\u001b[0m\u001b[1;33m\u001b[0m\u001b[0m\n\u001b[1;32m----> 5\u001b[1;33m         \u001b[0mfirst_star\u001b[0m\u001b[1;33m(\u001b[0m\u001b[0mdata\u001b[0m\u001b[1;33m)\u001b[0m\u001b[1;33m\u001b[0m\u001b[1;33m\u001b[0m\u001b[0m\n\u001b[0m\u001b[0;32m      6\u001b[0m     \u001b[1;32melse\u001b[0m\u001b[1;33m:\u001b[0m\u001b[1;33m\u001b[0m\u001b[1;33m\u001b[0m\u001b[0m\n\u001b[0;32m      7\u001b[0m         \u001b[0msecond_star\u001b[0m\u001b[1;33m(\u001b[0m\u001b[0mdata\u001b[0m\u001b[1;33m)\u001b[0m\u001b[1;33m\u001b[0m\u001b[1;33m\u001b[0m\u001b[0m\n",
      "\u001b[1;32m<ipython-input-235-b57b412cd5e5>\u001b[0m in \u001b[0;36mfirst_star\u001b[1;34m(data)\u001b[0m\n\u001b[0;32m      4\u001b[0m     \u001b[1;31m# print(test_if_in_area(data.shape, (9,0)))\u001b[0m\u001b[1;33m\u001b[0m\u001b[1;33m\u001b[0m\u001b[1;33m\u001b[0m\u001b[0m\n\u001b[0;32m      5\u001b[0m     \u001b[1;31m# find_all_paths(data, (0,0), (data.shape[0] - 1, data.shape[1] - 1), [])\u001b[0m\u001b[1;33m\u001b[0m\u001b[1;33m\u001b[0m\u001b[1;33m\u001b[0m\u001b[0m\n\u001b[1;32m----> 6\u001b[1;33m     \u001b[0mBFS\u001b[0m\u001b[1;33m(\u001b[0m\u001b[0mdata\u001b[0m\u001b[1;33m,\u001b[0m \u001b[1;33m(\u001b[0m\u001b[1;36m0\u001b[0m\u001b[1;33m,\u001b[0m\u001b[1;36m0\u001b[0m\u001b[1;33m)\u001b[0m\u001b[1;33m,\u001b[0m \u001b[1;33m(\u001b[0m\u001b[0mdata\u001b[0m\u001b[1;33m.\u001b[0m\u001b[0mshape\u001b[0m\u001b[1;33m[\u001b[0m\u001b[1;36m0\u001b[0m\u001b[1;33m]\u001b[0m \u001b[1;33m-\u001b[0m \u001b[1;36m1\u001b[0m\u001b[1;33m,\u001b[0m \u001b[0mdata\u001b[0m\u001b[1;33m.\u001b[0m\u001b[0mshape\u001b[0m\u001b[1;33m[\u001b[0m\u001b[1;36m1\u001b[0m\u001b[1;33m]\u001b[0m \u001b[1;33m-\u001b[0m \u001b[1;36m1\u001b[0m\u001b[1;33m)\u001b[0m\u001b[1;33m)\u001b[0m\u001b[1;33m\u001b[0m\u001b[1;33m\u001b[0m\u001b[0m\n\u001b[0m\u001b[0;32m      7\u001b[0m     \u001b[1;31m# findPaths(data, [], 0, 0)\u001b[0m\u001b[1;33m\u001b[0m\u001b[1;33m\u001b[0m\u001b[1;33m\u001b[0m\u001b[0m\n\u001b[0;32m      8\u001b[0m     \u001b[1;32mreturn\u001b[0m \u001b[1;36m0\u001b[0m\u001b[1;33m\u001b[0m\u001b[1;33m\u001b[0m\u001b[0m\n",
      "\u001b[1;32m<ipython-input-234-2dad21863c41>\u001b[0m in \u001b[0;36mBFS\u001b[1;34m(board, start, end)\u001b[0m\n\u001b[0;32m     15\u001b[0m         \u001b[0mqueue\u001b[0m \u001b[1;33m=\u001b[0m \u001b[0mqueue\u001b[0m\u001b[1;33m[\u001b[0m\u001b[1;36m1\u001b[0m\u001b[1;33m:\u001b[0m\u001b[1;33m]\u001b[0m   \u001b[1;31m# this is inefficient, an actual queue should be used\u001b[0m\u001b[1;33m\u001b[0m\u001b[1;33m\u001b[0m\u001b[0m\n\u001b[0;32m     16\u001b[0m         \u001b[0mvisited\u001b[0m\u001b[1;33m.\u001b[0m\u001b[0madd\u001b[0m\u001b[1;33m(\u001b[0m\u001b[0mv\u001b[0m\u001b[1;33m)\u001b[0m\u001b[1;33m\u001b[0m\u001b[1;33m\u001b[0m\u001b[0m\n\u001b[1;32m---> 17\u001b[1;33m         \u001b[1;32mfor\u001b[0m \u001b[0mu\u001b[0m \u001b[1;32min\u001b[0m \u001b[0madjacents\u001b[0m\u001b[1;33m(\u001b[0m\u001b[0mboard\u001b[0m\u001b[1;33m.\u001b[0m\u001b[0mshape\u001b[0m\u001b[1;33m,\u001b[0m \u001b[0mpoint\u001b[0m\u001b[1;33m)\u001b[0m\u001b[1;33m:\u001b[0m\u001b[1;33m\u001b[0m\u001b[1;33m\u001b[0m\u001b[0m\n\u001b[0m\u001b[0;32m     18\u001b[0m             \u001b[1;32mif\u001b[0m \u001b[0mu\u001b[0m \u001b[1;32mnot\u001b[0m \u001b[1;32min\u001b[0m \u001b[0mvisited\u001b[0m\u001b[1;33m:\u001b[0m\u001b[1;33m\u001b[0m\u001b[1;33m\u001b[0m\u001b[0m\n\u001b[0;32m     19\u001b[0m                 \u001b[0mparents\u001b[0m\u001b[1;33m[\u001b[0m\u001b[0mu\u001b[0m\u001b[1;33m]\u001b[0m \u001b[1;33m=\u001b[0m \u001b[0mv\u001b[0m\u001b[1;33m\u001b[0m\u001b[1;33m\u001b[0m\u001b[0m\n",
      "\u001b[1;31mNameError\u001b[0m: name 'point' is not defined"
     ]
    }
   ],
   "source": [
    "run_task(1)\n",
    "print(sum_path)"
   ]
  },
  {
   "cell_type": "code",
   "execution_count": null,
   "id": "108b615c",
   "metadata": {},
   "outputs": [],
   "source": [
    "def second_star(data):\n",
    "    start = data[0]\n",
    "    cont, result = zip(*[i.split(' -> ') for i in data if len(i.split('->')) > 1])\n",
    "    compos = {}\n",
    "    move_ind = 0\n",
    "    rounds = 40\n",
    "    # print(cont, result)\n",
    "    #print(start)\n",
    "    for comp in range(len(start) - 1):\n",
    "        if start[comp:comp + 2] in compos:\n",
    "            compos[start[comp:comp + 2]] += 1\n",
    "        else:\n",
    "            compos[start[comp:comp + 2]] = 1\n",
    "    for rounde in range(rounds):\n",
    "        # print(rounde, compos)\n",
    "        compos_temp = compos.copy()\n",
    "        for key in list(compos):\n",
    "            # print(key, compos_temp, compos)\n",
    "            if key in cont and compos[key] > 0:\n",
    "                key1 = key[0] + result[cont.index(key)]\n",
    "                key2 = result[cont.index(key)] + key[1]\n",
    "                # print(key, 'läpi', compos_temp[key], key1, key2)\n",
    "                if key1 in compos_temp:\n",
    "                    compos_temp[key1] += compos[key]\n",
    "                else:\n",
    "                    compos_temp[key1] = compos[key]\n",
    "                if key2 in compos_temp:\n",
    "                    compos_temp[key2] += compos[key]\n",
    "                else:\n",
    "                    compos_temp[key2] = compos[key]\n",
    "                if compos_temp[key] > 0:\n",
    "                    compos_temp[key] -= compos[key]\n",
    "        compos = compos_temp.copy()\n",
    "        # print('eka',compos)\n",
    "    print('maara',count_amount(compos, start))\n",
    "    return 0"
   ]
  },
  {
   "cell_type": "code",
   "execution_count": 310,
   "id": "9787e78b",
   "metadata": {},
   "outputs": [
    {
     "name": "stdout",
     "output_type": "stream",
     "text": [
      "3776553567525\n",
      "maara {'N': 1097414398280, 'B': 4134947677265, 'O': 1476758462088, 'K': 2605311143123, 'H': 1404478579381, 'V': 4817934452604, 'S': 1041380885079, 'C': 1481598185670, 'P': 1692579683772, 'F': 1138317460483}\n",
      "aikaa meni: 0.012 s\n"
     ]
    }
   ],
   "source": [
    "run_task()"
   ]
  }
 ],
 "metadata": {
  "kernelspec": {
   "display_name": "Python 3",
   "language": "python",
   "name": "python3"
  },
  "language_info": {
   "codemirror_mode": {
    "name": "ipython",
    "version": 3
   },
   "file_extension": ".py",
   "mimetype": "text/x-python",
   "name": "python",
   "nbconvert_exporter": "python",
   "pygments_lexer": "ipython3",
   "version": "3.6.13"
  }
 },
 "nbformat": 4,
 "nbformat_minor": 5
}
