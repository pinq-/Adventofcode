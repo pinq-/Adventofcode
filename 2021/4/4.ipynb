{
 "cells": [
  {
   "cell_type": "code",
   "execution_count": 1,
   "id": "32832e9b",
   "metadata": {},
   "outputs": [],
   "source": [
    "import datetime\n",
    "import time\n",
    "from numpy import prod\n",
    "import ast\n",
    "from itertools import groupby\n",
    "import pandas as pd"
   ]
  },
  {
   "cell_type": "code",
   "execution_count": 262,
   "id": "8cd68574",
   "metadata": {},
   "outputs": [],
   "source": [
    "def read_file():\n",
    "    day = datetime.datetime.now().day\n",
    "    file = \"input.txt\"\n",
    "    # file = \"testi.txt\"\n",
    "    with open(file, \"r\") as inputfile:\n",
    "        data = [i for i in inputfile.read().splitlines()]\n",
    "    return data"
   ]
  },
  {
   "cell_type": "code",
   "execution_count": 263,
   "id": "98496e6b",
   "metadata": {},
   "outputs": [],
   "source": [
    "def run_task():\n",
    "    t0 = time.time()\n",
    "    data = read_file()\n",
    "    # first_star(data)\n",
    "    second_star(data)\n",
    "    t1 = time.time()\n",
    "    # print(data)\n",
    "    print(\"aikaa meni:\",round(t1-t0,4), \"s\")"
   ]
  },
  {
   "cell_type": "code",
   "execution_count": 264,
   "id": "086feb83",
   "metadata": {},
   "outputs": [],
   "source": [
    "def first_star(data):\n",
    "    drawn = [int(i) for i in data[0].split(\",\")]\n",
    "    boards = [list(g) for k, g in groupby(data[2:], key=bool) if k]\n",
    "    groups = []\n",
    "    uniquekeys = []\n",
    "    for idy, board in enumerate(boards):\n",
    "        for idx, line in enumerate(board):\n",
    "            board[idx] = [int(i) for i in line.split()]\n",
    "        boards[idy] = pd.DataFrame(data=board)\n",
    "    # print(drawn)\n",
    "    for idz in range(len(drawn)):\n",
    "        values = drawn[:idz + 1]\n",
    "        for idy, board in enumerate(boards):\n",
    "            if board.isin(values).all(axis=0).any():\n",
    "                board = board[-board.isin(values)].fillna(0).values.sum()\n",
    "                print(board * values[-1])\n",
    "                return 0\n",
    "            elif board.isin(values).all(axis=1).any():\n",
    "                board = board[-board.isin(values)].fillna(0).values.sum()\n",
    "                print(board * values[-1])\n",
    "                return 0"
   ]
  },
  {
   "cell_type": "code",
   "execution_count": 270,
   "id": "108b615c",
   "metadata": {},
   "outputs": [],
   "source": [
    "def second_star(data):\n",
    "    drawn = [int(i) for i in data[0].split(\",\")]\n",
    "    boards = [list(g) for k, g in groupby(data[2:], key=bool) if k]\n",
    "    for idy, board in enumerate(boards):\n",
    "        for idx, line in enumerate(board):\n",
    "            board[idx] = [int(i) for i in line.split()]\n",
    "        boards[idy] = pd.DataFrame(data=board)\n",
    "    # print(drawn)\n",
    "    select = [i for i in range(len(boards))]\n",
    "    for idz in range(len(drawn)):\n",
    "        values = drawn[:idz + 1]\n",
    "        for idy, board in enumerate(boards):\n",
    "            if idy not in select:\n",
    "                continue\n",
    "            if board.isin(values).all(axis=0).any():\n",
    "                if len(select) == 1:\n",
    "                    board = boards[select[0]][-boards[select[0]].isin(values)].fillna(0).values.sum()\n",
    "                    print(board * values[-1])\n",
    "                    # print(idy, values, select)\n",
    "                    return 0\n",
    "                select.remove(idy)\n",
    "            elif board.isin(values).all(axis=1).any():\n",
    "                # select.remove(idy)\n",
    "                if len(select) == 1:\n",
    "                    board = boards[select[0]][-boards[select[0]].isin(values)].fillna(0).values.sum()\n",
    "                    print(board * values[-1])\n",
    "                    # print(idy, values, select)\n",
    "                    return 0\n",
    "                select.remove(idy)"
   ]
  },
  {
   "cell_type": "code",
   "execution_count": 271,
   "id": "9787e78b",
   "metadata": {},
   "outputs": [
    {
     "name": "stdout",
     "output_type": "stream",
     "text": [
      "4590.0\n",
      "aikaa meni: 3.6506 s\n",
      "None\n"
     ]
    }
   ],
   "source": [
    "print(run_task())"
   ]
  },
  {
   "cell_type": "code",
   "execution_count": null,
   "id": "4018b172",
   "metadata": {},
   "outputs": [],
   "source": []
  },
  {
   "cell_type": "code",
   "execution_count": null,
   "id": "fe457b83",
   "metadata": {},
   "outputs": [],
   "source": []
  },
  {
   "cell_type": "code",
   "execution_count": null,
   "id": "1c3b869b",
   "metadata": {},
   "outputs": [],
   "source": []
  }
 ],
 "metadata": {
  "kernelspec": {
   "display_name": "Python 3 (ipykernel)",
   "language": "python",
   "name": "python3"
  },
  "language_info": {
   "codemirror_mode": {
    "name": "ipython",
    "version": 3
   },
   "file_extension": ".py",
   "mimetype": "text/x-python",
   "name": "python",
   "nbconvert_exporter": "python",
   "pygments_lexer": "ipython3",
   "version": "3.8.10"
  }
 },
 "nbformat": 4,
 "nbformat_minor": 5
}
