{
 "cells": [
  {
   "cell_type": "code",
   "execution_count": 101,
   "id": "32832e9b",
   "metadata": {},
   "outputs": [],
   "source": [
    "import datetime\n",
    "import time\n",
    "from numpy import prod"
   ]
  },
  {
   "cell_type": "code",
   "execution_count": 113,
   "id": "8cd68574",
   "metadata": {},
   "outputs": [],
   "source": [
    "def read_file():\n",
    "    day = datetime.datetime.now().day\n",
    "    file = \"input.txt\"\n",
    "#     file = \"testi.txt\"\n",
    "    with open(file, \"r\") as inputfile:\n",
    "        data = [i for i in inputfile.read().splitlines()]\n",
    "    return data"
   ]
  },
  {
   "cell_type": "code",
   "execution_count": 114,
   "id": "98496e6b",
   "metadata": {},
   "outputs": [],
   "source": [
    "def run_task():\n",
    "    t0 = time.time()\n",
    "    data = read_file()\n",
    "#     first_star(data)\n",
    "    second_star(data)\n",
    "    t1 = time.time()\n",
    "    # print(data)\n",
    "    print(\"aikaa meni:\",round(t1-t0,4), \"s\")"
   ]
  },
  {
   "cell_type": "code",
   "execution_count": 115,
   "id": "086feb83",
   "metadata": {},
   "outputs": [],
   "source": [
    "def first_star(data):\n",
    "    ind = [0,0]\n",
    "    engine = [0] * len(data[0])\n",
    "    bit = 0\n",
    "    while True:\n",
    "        if ind[0] == len(data):\n",
    "            if bit > 0:\n",
    "                engine[ind[1]] = 1\n",
    "            else:\n",
    "                engine[ind[1]] = 0\n",
    "            ind[0] = 0\n",
    "            ind[1] += 1\n",
    "            bit = 0\n",
    "            if ind[1] == len(data[0]):\n",
    "                break\n",
    "        if int(data[ind[0]][ind[1]]):\n",
    "            bit += 1\n",
    "        else:\n",
    "            bit -= 1\n",
    "        ind[0] += 1\n",
    "    A = int(\"\".join(map(str, engine)), 2)\n",
    "    B = [0 if x else 1 for x in engine]\n",
    "    B = int(\"\".join(map(str, B)), 2)\n",
    "    print(A*B)"
   ]
  },
  {
   "cell_type": "code",
   "execution_count": 116,
   "id": "108b615c",
   "metadata": {},
   "outputs": [],
   "source": [
    "def second_star(data):\n",
    "    ind = [0, 0, 0]\n",
    "    engine = [0] * len(data[0])\n",
    "    result = [0, 0]\n",
    "    bit = 0\n",
    "    data2 = data[::]\n",
    "    while True:\n",
    "        if ind[0] == len(data):\n",
    "            for line in list(data):\n",
    "                if bit < 0:\n",
    "                    if int(line[ind[1]]) != ind[2]:\n",
    "                        data.remove(line)\n",
    "                else:\n",
    "                    if int(line[ind[1]]) == ind[2]:\n",
    "                        data.remove(line)\n",
    "            ind[0] = 0\n",
    "            ind[1] += 1\n",
    "            bit = 0\n",
    "            if ind[1] == len(data[0]) or len(data) == 1:\n",
    "                result[ind[2]] = int(\"\".join(map(str, data[0])), 2)\n",
    "                data = data2[::]\n",
    "                if not ind[2]:\n",
    "                    ind[2] += 1\n",
    "                    ind[1] = 0\n",
    "                else:\n",
    "                    break\n",
    "        if int(data[ind[0]][ind[1]]):\n",
    "            bit += 1\n",
    "        else:\n",
    "            bit -= 1\n",
    "        ind[0] += 1\n",
    "    print(prod(result))"
   ]
  },
  {
   "cell_type": "code",
   "execution_count": 117,
   "id": "9787e78b",
   "metadata": {},
   "outputs": [
    {
     "name": "stdout",
     "output_type": "stream",
     "text": [
      "6085575\n",
      "aikaa meni: 0.0065 s\n"
     ]
    }
   ],
   "source": [
    "run_task()"
   ]
  },
  {
   "cell_type": "code",
   "execution_count": null,
   "id": "4018b172",
   "metadata": {},
   "outputs": [],
   "source": []
  }
 ],
 "metadata": {
  "kernelspec": {
   "display_name": "Python 3",
   "language": "python",
   "name": "python3"
  },
  "language_info": {
   "codemirror_mode": {
    "name": "ipython",
    "version": 3
   },
   "file_extension": ".py",
   "mimetype": "text/x-python",
   "name": "python",
   "nbconvert_exporter": "python",
   "pygments_lexer": "ipython3",
   "version": "3.6.13"
  }
 },
 "nbformat": 4,
 "nbformat_minor": 5
}
