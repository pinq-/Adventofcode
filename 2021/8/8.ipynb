{
 "cells": [
  {
   "cell_type": "code",
   "execution_count": 9,
   "id": "32832e9b",
   "metadata": {},
   "outputs": [],
   "source": [
    "import datetime\n",
    "import time\n",
    "from statistics import mean"
   ]
  },
  {
   "cell_type": "code",
   "execution_count": 10,
   "id": "8cd68574",
   "metadata": {},
   "outputs": [],
   "source": [
    "def read_file():\n",
    "    day = datetime.datetime.now().day\n",
    "    file = \"input.txt\"\n",
    "    #file = \"testi.txt\"\n",
    "    with open(file, \"r\") as inputfile:\n",
    "        data = [i for i in inputfile.read().splitlines()]\n",
    "    return data"
   ]
  },
  {
   "cell_type": "code",
   "execution_count": 11,
   "id": "98496e6b",
   "metadata": {},
   "outputs": [],
   "source": [
    "def run_task():\n",
    "    t0 = time.time()\n",
    "    data = read_file()\n",
    "    first_star(data)\n",
    "    #second_star(data)\n",
    "    t1 = time.time()\n",
    "    # print(data)\n",
    "    print(\"aikaa meni:\",round(t1-t0,4), \"s\")"
   ]
  },
  {
   "cell_type": "code",
   "execution_count": 12,
   "id": "2ed4dd3c-3f4e-43af-abcb-74e299838635",
   "metadata": {},
   "outputs": [],
   "source": [
    "def remove_others(word1,word2):\n",
    "    for i in word1:\n",
    "        word2 = word2.replace(i, \"\")\n",
    "    return word2"
   ]
  },
  {
   "cell_type": "code",
   "execution_count": 13,
   "id": "e11a3418-667c-4d53-a910-a7a838026133",
   "metadata": {},
   "outputs": [],
   "source": [
    "def remove_duplicates(word1,word2):\n",
    "    word = word1 + word2\n",
    "    for i in set(word):\n",
    "        if word.count(i) > 1:\n",
    "            word = word.replace(i,\"\")\n",
    "    return word\n",
    "    "
   ]
  },
  {
   "cell_type": "code",
   "execution_count": 14,
   "id": "108b615c",
   "metadata": {},
   "outputs": [],
   "source": [
    "def second_star(data):\n",
    "    ravut = [int(i) for i in data[0].split(\",\")]\n",
    "    sum_all = 0\n",
    "    luku = round(mean(ravut))\n",
    "    for i in range(luku - 5, luku + 6):\n",
    "        sum_all = 0\n",
    "        for k in ravut:\n",
    "            for z in range(abs(k - i)):\n",
    "                sum_all += z + 1\n",
    "        print(i, sum_all)\n",
    "    return 0"
   ]
  },
  {
   "cell_type": "code",
   "execution_count": 15,
   "id": "086feb83",
   "metadata": {},
   "outputs": [],
   "source": [
    "def first_star(data):\n",
    "    all_sum = 0\n",
    "    for line in data:\n",
    "        screen = ['-', '-', '-', '-', '-', '-', '-', '-', '-', '-']\n",
    "        digits = line.split(\" | \")\n",
    "        numbers = digits[1].split()\n",
    "        digits = digits[0].split()\n",
    "        answer = []\n",
    "        inde = 0\n",
    "        rounds = 0\n",
    "        loop = True\n",
    "        # print(numbers)\n",
    "        while loop:\n",
    "            if inde == len(digits):\n",
    "                inde = 0\n",
    "                rounds += 1\n",
    "                if rounds == 10:\n",
    "                    loop = False\n",
    "            leng = len(digits[inde])\n",
    "            if leng == 2 and not digits[inde] in screen:\n",
    "                screen[1] = digits[inde]\n",
    "            elif leng == 4 and not digits[inde] in screen:\n",
    "                screen[4] = digits[inde]\n",
    "            elif leng == 3 and not digits[inde] in screen:\n",
    "                 screen[7] = digits[inde]\n",
    "            elif leng == 7 and not digits[inde] in screen:\n",
    "                 screen[8] = digits[inde]\n",
    "            elif leng == 5 and not digits[inde] in screen:\n",
    "                #  5,2 3\n",
    "                if screen[6] != \"-\" and screen[5] == \"-\":\n",
    "                    word = remove_others(screen[6],digits[inde])\n",
    "                    if not len(word):\n",
    "                        screen[5] = digits[inde]\n",
    "                if screen[4] != \"-\" and screen[2] == \"-\":\n",
    "                    word = remove_others(screen[4],digits[inde])\n",
    "                    if len(word) == 3:\n",
    "                        screen[2] = digits[inde]\n",
    "                if screen[5] != \"-\" and screen[2] != \"-\" and screen[3] == \"-\" and not digits[inde] in screen:\n",
    "                    screen[3] = digits[inde]\n",
    "            elif leng == 6 and not digits[inde] in screen:\n",
    "                if screen[1] != \"-\" and screen[6] == \"-\":\n",
    "                    word = remove_duplicates(screen[1],digits[inde])\n",
    "                    if len(word) == 6:\n",
    "                        screen[6] = digits[inde]\n",
    "                if screen[3] != \"-\" and screen[9] == \"-\":\n",
    "                    word = remove_others(screen[3],digits[inde])\n",
    "                    if len(word) == 1:\n",
    "                        screen[9] = digits[inde]\n",
    "                if screen[9] != \"-\" and screen[6] != \"-\" and screen[0] == \"-\" and not digits[inde] in screen:\n",
    "                    screen[0] = digits[inde]\n",
    "                # 9,6,0\n",
    "            if not \"-\" in screen:\n",
    "                loop = False\n",
    "            inde += 1\n",
    "        screen = [''.join(sorted(a)) for a in screen]\n",
    "        for num in numbers:\n",
    "            # print(screen)\n",
    "            answer.append(screen.index(''.join(sorted(num))))\n",
    "        # print(int(''.join(str(x) for x in answer)))\n",
    "        all_sum += int(''.join(str(x) for x in answer))\n",
    "               \n",
    "    print(all_sum)\n",
    "    return 0"
   ]
  },
  {
   "cell_type": "code",
   "execution_count": 16,
   "id": "9787e78b",
   "metadata": {},
   "outputs": [
    {
     "name": "stdout",
     "output_type": "stream",
     "text": [
      "986163\n",
      "aikaa meni: 0.0155 s\n"
     ]
    }
   ],
   "source": [
    "run_task()"
   ]
  },
  {
   "cell_type": "code",
   "execution_count": null,
   "id": "a8ce58e6-a92b-4ca0-8d74-43f6f968e224",
   "metadata": {},
   "outputs": [],
   "source": []
  }
 ],
 "metadata": {
  "kernelspec": {
   "display_name": "Python 3",
   "language": "python",
   "name": "python3"
  },
  "language_info": {
   "codemirror_mode": {
    "name": "ipython",
    "version": 3
   },
   "file_extension": ".py",
   "mimetype": "text/x-python",
   "name": "python",
   "nbconvert_exporter": "python",
   "pygments_lexer": "ipython3",
   "version": "3.6.13"
  }
 },
 "nbformat": 4,
 "nbformat_minor": 5
}
