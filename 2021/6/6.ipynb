{
 "cells": [
  {
   "cell_type": "code",
   "execution_count": 88,
   "id": "32832e9b",
   "metadata": {},
   "outputs": [],
   "source": [
    "import datetime\n",
    "import time\n",
    "from numpy import prod\n",
    "import ast\n",
    "from itertools import groupby\n",
    "import numpy as np\n",
    "import pandas as pd"
   ]
  },
  {
   "cell_type": "code",
   "execution_count": 103,
   "id": "8cd68574",
   "metadata": {},
   "outputs": [],
   "source": [
    "def read_file():\n",
    "    day = datetime.datetime.now().day\n",
    "    file = \"input.txt\"\n",
    "    #file = \"testi.txt\"\n",
    "    with open(file, \"r\") as inputfile:\n",
    "        data = [i for i in inputfile.read().splitlines()]\n",
    "    return data"
   ]
  },
  {
   "cell_type": "code",
   "execution_count": 104,
   "id": "98496e6b",
   "metadata": {},
   "outputs": [],
   "source": [
    "def run_task():\n",
    "    t0 = time.time()\n",
    "    data = read_file()\n",
    "    #first_star(data)\n",
    "    second_star(data)\n",
    "    t1 = time.time()\n",
    "    # print(data)\n",
    "    print(\"aikaa meni:\",round(t1-t0,4), \"s\")"
   ]
  },
  {
   "cell_type": "code",
   "execution_count": 105,
   "id": "086feb83",
   "metadata": {},
   "outputs": [],
   "source": [
    "def first_star(data):\n",
    "    kalat = [int(i) for i in data[0].split(\",\")]\n",
    "    ind = 0\n",
    "    lisaa = []\n",
    "    kierros = 0\n",
    "    days = 256\n",
    "    print(kalat)\n",
    "    while True:\n",
    "        if ind == len(kalat):\n",
    "            #print(kalat)\n",
    "            kalat = kalat + lisaa\n",
    "            #print(kalat, kierros, len(kalat))\n",
    "            lisaa = []\n",
    "            kierros += 1\n",
    "            ind = 0\n",
    "            if kierros > days - 1:\n",
    "                break\n",
    "        if kalat[ind]:\n",
    "            kalat[ind] -= 1\n",
    "        else:\n",
    "            kalat[ind] = 6\n",
    "            lisaa.append(8)\n",
    "        ind += 1\n",
    "    print(len(kalat))"
   ]
  },
  {
   "cell_type": "code",
   "execution_count": 106,
   "id": "108b615c",
   "metadata": {},
   "outputs": [],
   "source": [
    "def second_star(data):\n",
    "    kalat = [int(i) for i in data[0].split(\",\")]\n",
    "    kalat = dict((x,kalat.count(x)) for x in set(kalat))\n",
    "    kalat_d = {0:0, 1:0, 2:0, 3:0, 4:0, 5:0, 6:0, 7:0, 8:0}\n",
    "    kalat_d.update(kalat)\n",
    "    kalat = dict(kalat_d)\n",
    "    ind = 1\n",
    "    kierros = 0\n",
    "    days = 256\n",
    "    print(kalat)\n",
    "    while True:\n",
    "        if ind > 8:\n",
    "            kalat_d[8] = kalat[0]\n",
    "            kalat_d[6] += kalat[0]\n",
    "            #print(kalat,kalat_d)\n",
    "            kalat = dict(kalat_d)\n",
    "            kierros += 1\n",
    "            ind = 1\n",
    "            if kierros > days - 1:\n",
    "                break\n",
    "        kalat_d[ind - 1] = kalat[ind]\n",
    "        ind += 1\n",
    "    print(sum(kalat.values()))"
   ]
  },
  {
   "cell_type": "code",
   "execution_count": 107,
   "id": "9787e78b",
   "metadata": {},
   "outputs": [
    {
     "name": "stdout",
     "output_type": "stream",
     "text": [
      "{0: 0, 1: 57, 2: 70, 3: 58, 4: 48, 5: 67, 6: 0, 7: 0, 8: 0}\n",
      "1569108373832\n",
      "aikaa meni: 0.0016 s\n",
      "None\n"
     ]
    }
   ],
   "source": [
    "print(run_task())"
   ]
  }
 ],
 "metadata": {
  "kernelspec": {
   "display_name": "Python 3",
   "language": "python",
   "name": "python3"
  },
  "language_info": {
   "codemirror_mode": {
    "name": "ipython",
    "version": 3
   },
   "file_extension": ".py",
   "mimetype": "text/x-python",
   "name": "python",
   "nbconvert_exporter": "python",
   "pygments_lexer": "ipython3",
   "version": "3.6.13"
  }
 },
 "nbformat": 4,
 "nbformat_minor": 5
}
