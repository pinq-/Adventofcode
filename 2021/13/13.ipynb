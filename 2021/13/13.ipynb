{
 "cells": [
  {
   "cell_type": "code",
   "execution_count": 5,
   "id": "32832e9b",
   "metadata": {},
   "outputs": [],
   "source": [
    "import time\n",
    "import numpy as np"
   ]
  },
  {
   "cell_type": "code",
   "execution_count": 349,
   "id": "8cd68574",
   "metadata": {},
   "outputs": [],
   "source": [
    "def read_file():\n",
    "    file = \"input.txt\"\n",
    "    # file = \"testi.txt\"\n",
    "    with open(file, \"r\") as inputfile:\n",
    "        data = np.array([i for i in inputfile.read().splitlines()])\n",
    "        data\n",
    "    return data"
   ]
  },
  {
   "cell_type": "code",
   "execution_count": 350,
   "id": "98496e6b",
   "metadata": {},
   "outputs": [],
   "source": [
    "def run_task():\n",
    "    t0 = time.time()\n",
    "    data = read_file()\n",
    "    #first_star(data)\n",
    "    second_star(data)\n",
    "    t1 = time.time()\n",
    "    # print(data)\n",
    "    print(\"aikaa meni:\",round(t1-t0,4), \"s\")"
   ]
  },
  {
   "cell_type": "code",
   "execution_count": 351,
   "id": "086feb83",
   "metadata": {},
   "outputs": [],
   "source": [
    "def first_star(data):\n",
    "    dots = np.array([[int(k) for k in i.split(',')] for i in data if ',' in i])\n",
    "    fold = [[k for k in i.split(' along ')[1].split('=')] for i in data if 'fold' in i]\n",
    "    indices = np.amax(dots, axis=0) + 1\n",
    "    paper = np.full(indices[::-1], 0)\n",
    "    for fo in fold:\n",
    "        if fo[0] == 'y':\n",
    "            if int(fo[1]) * 2 - 1 > paper.shape[0]:\n",
    "                paper = np.pad(paper, ((0,(int(fo[1]) * 2) - paper.shape[0] + 1),(0,0)), mode='constant', constant_values=0)\n",
    "        elif fo[0] == 'x':\n",
    "            if int(fo[1]) * 2 - 1 > paper.shape[1]:\n",
    "                paper = np.pad(paper, ((0,0),(0, (int(fo[1]) * 2) - paper.shape[1] + 1)), mode='constant', constant_values=0)\n",
    "    for dot in dots:\n",
    "        paper[dot[1], dot[0]] = 1\n",
    "    for fo in fold:\n",
    "        if fo[0] == 'y':\n",
    "            paper = np.delete(paper, int(fo[1]), 0)\n",
    "            paper = np.split(paper, 2)\n",
    "            paper[1] = np.flip(paper[1], 0)\n",
    "        elif fo[0] == 'x':\n",
    "            paper = np.delete(paper, int(fo[1]), 1)\n",
    "            paper = np.split(paper, 2, 1)\n",
    "            paper[1] = np.flip(paper[1], 1)\n",
    "        paper = paper[0] + paper[1]\n",
    "        break\n",
    "    paper_mask = len(paper[paper > 0])\n",
    "    print(paper_mask)\n",
    "\n",
    "\n",
    "    return 0"
   ]
  },
  {
   "cell_type": "code",
   "execution_count": 395,
   "id": "108b615c",
   "metadata": {},
   "outputs": [],
   "source": [
    "def second_star(data):\n",
    "    dots = np.array([[int(k) for k in i.split(',')] for i in data if ',' in i])\n",
    "    fold = [[k for k in i.split(' along ')[1].split('=')] for i in data if 'fold' in i]\n",
    "    paper_size = [0, 0]\n",
    "    for fo in fold:\n",
    "        if fo[0] == 'y':\n",
    "            if int(fo[1]) * 2 + 1 > paper_size[0]:\n",
    "                paper_size[0] = int(fo[1]) * 2 + 1\n",
    "        elif fo[0] == 'x':\n",
    "            if int(fo[1]) * 2 + 1 > paper_size[1]:\n",
    "                paper_size[1] = int(fo[1]) * 2 + 1\n",
    "    paper = np.full(paper_size, 0)\n",
    "    # print(paper, paper_size)\n",
    "    for dot in dots:\n",
    "        paper[dot[1], dot[0]] = 1\n",
    "    for fo in fold:\n",
    "        print(fo)\n",
    "        # print(paper.shape)\n",
    "        if fo[0] == 'y':\n",
    "            paper = np.delete(paper, int(fo[1]), 0)\n",
    "            paper = np.split(paper, 2)\n",
    "            paper[1] = np.flip(paper[1], 0)\n",
    "        elif fo[0] == 'x':\n",
    "            paper = np.delete(paper, int(fo[1]), 1)\n",
    "            paper = np.split(paper, 2, 1)\n",
    "            paper[1] = np.flip(paper[1], 1)\n",
    "        paper = paper[0] + paper[1]\n",
    "    paper_mask = paper[paper > 0] = True\n",
    "    print(paper_mask)\n",
    "    # print(paper)\n",
    "    for line in paper:\n",
    "        for i in line:\n",
    "            if i == 0:\n",
    "                print('.', end='')\n",
    "            else:\n",
    "                print(colored('#', 'red'), end='')\n",
    "        print('')\n",
    "        \n",
    "        # print(colored(\"\".join([str(elem) for elem in line]), 'green'))\n",
    "    return 0"
   ]
  },
  {
   "cell_type": "code",
   "execution_count": 396,
   "id": "9787e78b",
   "metadata": {},
   "outputs": [
    {
     "name": "stdout",
     "output_type": "stream",
     "text": [
      "['x', '655']\n",
      "['y', '447']\n",
      "['x', '327']\n",
      "['y', '223']\n",
      "['x', '163']\n",
      "['y', '111']\n",
      "['x', '81']\n",
      "['y', '55']\n",
      "['x', '40']\n",
      "['y', '27']\n",
      "['y', '13']\n",
      "['y', '6']\n",
      "True\n",
      "..\u001b[31m#\u001b[0m\u001b[31m#\u001b[0m..\u001b[31m#\u001b[0m\u001b[31m#\u001b[0m...\u001b[31m#\u001b[0m\u001b[31m#\u001b[0m....\u001b[31m#\u001b[0m\u001b[31m#\u001b[0m.\u001b[31m#\u001b[0m\u001b[31m#\u001b[0m\u001b[31m#\u001b[0m\u001b[31m#\u001b[0m.\u001b[31m#\u001b[0m\u001b[31m#\u001b[0m\u001b[31m#\u001b[0m\u001b[31m#\u001b[0m.\u001b[31m#\u001b[0m..\u001b[31m#\u001b[0m.\u001b[31m#\u001b[0m..\u001b[31m#\u001b[0m.\n",
      "...\u001b[31m#\u001b[0m.\u001b[31m#\u001b[0m..\u001b[31m#\u001b[0m.\u001b[31m#\u001b[0m..\u001b[31m#\u001b[0m....\u001b[31m#\u001b[0m.\u001b[31m#\u001b[0m....\u001b[31m#\u001b[0m....\u001b[31m#\u001b[0m.\u001b[31m#\u001b[0m..\u001b[31m#\u001b[0m..\u001b[31m#\u001b[0m.\n",
      "...\u001b[31m#\u001b[0m.\u001b[31m#\u001b[0m....\u001b[31m#\u001b[0m..\u001b[31m#\u001b[0m....\u001b[31m#\u001b[0m.\u001b[31m#\u001b[0m\u001b[31m#\u001b[0m\u001b[31m#\u001b[0m..\u001b[31m#\u001b[0m\u001b[31m#\u001b[0m\u001b[31m#\u001b[0m..\u001b[31m#\u001b[0m\u001b[31m#\u001b[0m...\u001b[31m#\u001b[0m..\u001b[31m#\u001b[0m.\n",
      "...\u001b[31m#\u001b[0m.\u001b[31m#\u001b[0m.\u001b[31m#\u001b[0m\u001b[31m#\u001b[0m.\u001b[31m#\u001b[0m\u001b[31m#\u001b[0m\u001b[31m#\u001b[0m\u001b[31m#\u001b[0m....\u001b[31m#\u001b[0m.\u001b[31m#\u001b[0m....\u001b[31m#\u001b[0m....\u001b[31m#\u001b[0m.\u001b[31m#\u001b[0m..\u001b[31m#\u001b[0m..\u001b[31m#\u001b[0m.\n",
      "\u001b[31m#\u001b[0m..\u001b[31m#\u001b[0m.\u001b[31m#\u001b[0m..\u001b[31m#\u001b[0m.\u001b[31m#\u001b[0m..\u001b[31m#\u001b[0m.\u001b[31m#\u001b[0m..\u001b[31m#\u001b[0m.\u001b[31m#\u001b[0m....\u001b[31m#\u001b[0m....\u001b[31m#\u001b[0m.\u001b[31m#\u001b[0m..\u001b[31m#\u001b[0m..\u001b[31m#\u001b[0m.\n",
      ".\u001b[31m#\u001b[0m\u001b[31m#\u001b[0m...\u001b[31m#\u001b[0m\u001b[31m#\u001b[0m\u001b[31m#\u001b[0m.\u001b[31m#\u001b[0m..\u001b[31m#\u001b[0m..\u001b[31m#\u001b[0m\u001b[31m#\u001b[0m..\u001b[31m#\u001b[0m\u001b[31m#\u001b[0m\u001b[31m#\u001b[0m\u001b[31m#\u001b[0m.\u001b[31m#\u001b[0m....\u001b[31m#\u001b[0m..\u001b[31m#\u001b[0m..\u001b[31m#\u001b[0m\u001b[31m#\u001b[0m..\n",
      "aikaa meni: 0.0312 s\n"
     ]
    }
   ],
   "source": [
    "run_task()"
   ]
  },
  {
   "cell_type": "code",
   "execution_count": null,
   "id": "a2f491b9-f702-419b-9daf-aec1802748b5",
   "metadata": {},
   "outputs": [],
   "source": []
  },
  {
   "cell_type": "code",
   "execution_count": null,
   "id": "8f511ab5-2ffa-4afe-bb14-98b24ac9cd16",
   "metadata": {},
   "outputs": [],
   "source": []
  }
 ],
 "metadata": {
  "kernelspec": {
   "display_name": "Python 3",
   "language": "python",
   "name": "python3"
  },
  "language_info": {
   "codemirror_mode": {
    "name": "ipython",
    "version": 3
   },
   "file_extension": ".py",
   "mimetype": "text/x-python",
   "name": "python",
   "nbconvert_exporter": "python",
   "pygments_lexer": "ipython3",
   "version": "3.6.13"
  }
 },
 "nbformat": 4,
 "nbformat_minor": 5
}
