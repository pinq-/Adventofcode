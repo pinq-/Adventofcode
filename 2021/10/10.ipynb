{
 "cells": [
  {
   "cell_type": "code",
   "execution_count": null,
   "id": "ceeeff6d-5327-478b-88cd-c881b0cf124f",
   "metadata": {},
   "outputs": [],
   "source": []
  },
  {
   "cell_type": "code",
   "execution_count": 172,
   "id": "32832e9b",
   "metadata": {},
   "outputs": [],
   "source": [
    "import time\n",
    "from statistics import median"
   ]
  },
  {
   "cell_type": "code",
   "execution_count": 210,
   "id": "8cd68574",
   "metadata": {},
   "outputs": [],
   "source": [
    "def read_file():\n",
    "    file = \"input.txt\"\n",
    "    #file = \"testi.txt\"\n",
    "    with open(file, \"r\") as inputfile:\n",
    "        data = np.array([i for i in inputfile.read().splitlines()])\n",
    "    return data"
   ]
  },
  {
   "cell_type": "code",
   "execution_count": 216,
   "id": "98496e6b",
   "metadata": {},
   "outputs": [],
   "source": [
    "def run_task():\n",
    "    t0 = time.time()\n",
    "    data = read_file()\n",
    "    first_star(data)\n",
    "    second_star(data)\n",
    "    t1 = time.time()\n",
    "    # print(data)\n",
    "    print(\"aikaa meni:\",round(t1-t0,4), \"s\")"
   ]
  },
  {
   "cell_type": "code",
   "execution_count": 220,
   "id": "086feb83",
   "metadata": {},
   "outputs": [],
   "source": [
    "def first_star(data):\n",
    "    type_brackets = ['{}', '[]', '<>', '()']\n",
    "    type_close = ['}', ']', '>', ')']\n",
    "    points = {'}':1197, ']':57, '>':25137, ')':3}\n",
    "    illegals = []\n",
    "    for line in data:\n",
    "        while any(x in line for x in type_brackets):\n",
    "            # print(line)\n",
    "            for br in type_brackets:\n",
    "                # print(line)\n",
    "                line = line.replace(br, '')\n",
    "        if any(x in line for x in type_close):\n",
    "            mukana = min(line.find(x) for x in type_close if line.find(x) > 0)\n",
    "            illegals.append(line[mukana])\n",
    "    illegals = [points[x] for x in illegals if x in points]\n",
    "    print(sum(illegals))\n",
    "    return 0"
   ]
  },
  {
   "cell_type": "code",
   "execution_count": 225,
   "id": "108b615c",
   "metadata": {},
   "outputs": [],
   "source": [
    "def second_star(data):\n",
    "    type_brackets = ['{}', '[]', '<>', '()']\n",
    "    type_close = ['}', ']', '>', ')']\n",
    "    points = {'{':3, '[':2, '<':4, '(':1}\n",
    "    illegals = []\n",
    "    for line in data:\n",
    "        while any(x in line for x in type_brackets):\n",
    "            # print(line)\n",
    "            for br in type_brackets:\n",
    "                # print(line)\n",
    "                line = line.replace(br, '')\n",
    "        if any(x in line for x in type_close):\n",
    "            continue\n",
    "        point = 0\n",
    "        for char in line[::-1]:\n",
    "            point = point * 5 + points[char]\n",
    "        illegals.append(point)\n",
    "    print(median(illegals))\n",
    "    return 0"
   ]
  },
  {
   "cell_type": "code",
   "execution_count": 226,
   "id": "9787e78b",
   "metadata": {},
   "outputs": [
    {
     "name": "stdout",
     "output_type": "stream",
     "text": [
      "278475\n",
      "3015539998\n",
      "aikaa meni: 0.0 s\n"
     ]
    }
   ],
   "source": [
    "run_task()"
   ]
  },
  {
   "cell_type": "code",
   "execution_count": null,
   "id": "a2f491b9-f702-419b-9daf-aec1802748b5",
   "metadata": {},
   "outputs": [],
   "source": []
  },
  {
   "cell_type": "code",
   "execution_count": null,
   "id": "8f511ab5-2ffa-4afe-bb14-98b24ac9cd16",
   "metadata": {},
   "outputs": [],
   "source": []
  }
 ],
 "metadata": {
  "kernelspec": {
   "display_name": "Python 3 (ipykernel)",
   "language": "python",
   "name": "python3"
  },
  "language_info": {
   "codemirror_mode": {
    "name": "ipython",
    "version": 3
   },
   "file_extension": ".py",
   "mimetype": "text/x-python",
   "name": "python",
   "nbconvert_exporter": "python",
   "pygments_lexer": "ipython3",
   "version": "3.8.10"
  }
 },
 "nbformat": 4,
 "nbformat_minor": 5
}
