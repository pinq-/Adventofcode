{
 "cells": [
  {
   "cell_type": "code",
   "execution_count": null,
   "id": "ceeeff6d-5327-478b-88cd-c881b0cf124f",
   "metadata": {},
   "outputs": [],
   "source": []
  },
  {
   "cell_type": "code",
   "execution_count": 12,
   "id": "32832e9b",
   "metadata": {},
   "outputs": [],
   "source": [
    "import time\n",
    "import numpy as np"
   ]
  },
  {
   "cell_type": "code",
   "execution_count": 175,
   "id": "8cd68574",
   "metadata": {},
   "outputs": [],
   "source": [
    "def read_file():\n",
    "    file = \"input.txt\"\n",
    "    #file = \"testi.txt\"\n",
    "    with open(file, \"r\") as inputfile:\n",
    "        data = np.array([[int(k) for k in i] for i in inputfile.read().splitlines()])\n",
    "    return data"
   ]
  },
  {
   "cell_type": "code",
   "execution_count": 176,
   "id": "98496e6b",
   "metadata": {},
   "outputs": [],
   "source": [
    "def run_task():\n",
    "    t0 = time.time()\n",
    "    data = read_file()\n",
    "    #first_star(data)\n",
    "    second_star(data)\n",
    "    t1 = time.time()\n",
    "    # print(data)\n",
    "    print(\"aikaa meni:\",round(t1-t0,4), \"s\")"
   ]
  },
  {
   "cell_type": "code",
   "execution_count": 177,
   "id": "942fa477-5176-48d3-b8ec-2280b7e1830d",
   "metadata": {},
   "outputs": [],
   "source": [
    "def flash_n_Adjacent(data):\n",
    "    who = np.where(data > 9)\n",
    "    datazip = list(zip(who[0], who[1]))\n",
    "    for i in datazip:\n",
    "        data[i] = 0\n",
    "        adjacents = [(i[0] - 1 , i[1] - 1), (i[0] - 1 , i[1]), (i[0] - 1 , i[1] + 1), (i[0] , i[1] - 1), (i[0], i[1]), (i[0] , i[1] + 1), (i[0] + 1 , i[1] - 1), (i[0] + 1 , i[1]), (i[0] + 1 , i[1] + 1)]\n",
    "        for ain, adj in enumerate(adjacents):\n",
    "            if adj[0] > -1 and adj[1] > -1 and adj[0] < len(data[0]) and adj[1] < len(data):\n",
    "                if (adj[0], adj[1]) == i or data[adj[0], adj[1]] == 0:\n",
    "                    continue\n",
    "                data[adj[0], adj[1]] += 1"
   ]
  },
  {
   "cell_type": "code",
   "execution_count": 178,
   "id": "086feb83",
   "metadata": {},
   "outputs": [],
   "source": [
    "def first_star(data):\n",
    "    flashes = 0\n",
    "    for step in range(3):\n",
    "        #print(step)\n",
    "        data += 1\n",
    "        #print(\"enen\",data)\n",
    "        while np.any(data > 9):\n",
    "            flash_n_Adjacent(data)\n",
    "        #print(\"jälkeen\\n\",data)\n",
    "        flashes += len(np.where(data == 0)[0])\n",
    "    print(\"flashes\",flashes)\n",
    "    return 0"
   ]
  },
  {
   "cell_type": "code",
   "execution_count": 179,
   "id": "108b615c",
   "metadata": {},
   "outputs": [],
   "source": [
    "def second_star(data):\n",
    "    flashes = 0\n",
    "    step = 0\n",
    "    while len(np.where(data == 0)[0]) < 100:\n",
    "        #print(step, len(np.where(data == 0)[0]))\n",
    "        step += 1\n",
    "        data += 1\n",
    "        #print(\"enen\",data)\n",
    "        while np.any(data > 9):\n",
    "            flash_n_Adjacent(data)\n",
    "        #print(\"jälkeen\\n\",data)\n",
    "        flashes += len(np.where(data == 0)[0])\n",
    "    #print(data)\n",
    "    #print(\"flashes\",flashes, len(np.where(data == 0)[0]) )\n",
    "    print(step)\n",
    "    return 0"
   ]
  },
  {
   "cell_type": "code",
   "execution_count": 180,
   "id": "9787e78b",
   "metadata": {},
   "outputs": [
    {
     "name": "stdout",
     "output_type": "stream",
     "text": [
      "303\n",
      "aikaa meni: 0.1176 s\n"
     ]
    }
   ],
   "source": [
    "run_task()"
   ]
  },
  {
   "cell_type": "code",
   "execution_count": null,
   "id": "a2f491b9-f702-419b-9daf-aec1802748b5",
   "metadata": {},
   "outputs": [],
   "source": []
  },
  {
   "cell_type": "code",
   "execution_count": null,
   "id": "8f511ab5-2ffa-4afe-bb14-98b24ac9cd16",
   "metadata": {},
   "outputs": [],
   "source": []
  }
 ],
 "metadata": {
  "kernelspec": {
   "display_name": "Python 3",
   "language": "python",
   "name": "python3"
  },
  "language_info": {
   "codemirror_mode": {
    "name": "ipython",
    "version": 3
   },
   "file_extension": ".py",
   "mimetype": "text/x-python",
   "name": "python",
   "nbconvert_exporter": "python",
   "pygments_lexer": "ipython3",
   "version": "3.6.13"
  }
 },
 "nbformat": 4,
 "nbformat_minor": 5
}
