{
 "cells": [
  {
   "cell_type": "code",
   "execution_count": 22,
   "id": "9ccd324f",
   "metadata": {},
   "outputs": [],
   "source": [
    "import datetime\n",
    "import time\n",
    "from numpy import sign,prod"
   ]
  },
  {
   "cell_type": "code",
   "execution_count": 41,
   "id": "21e1a775",
   "metadata": {},
   "outputs": [],
   "source": [
    "def read_file():\n",
    "    day = datetime.datetime.now().day\n",
    "    file = \"input.txt\"\n",
    "#     file = \"testi.txt\"\n",
    "    with open(file, \"r\") as inputfile:\n",
    "        data = [i for i in inputfile.read().splitlines()]\n",
    "    return data"
   ]
  },
  {
   "cell_type": "code",
   "execution_count": 33,
   "id": "fd269e3c",
   "metadata": {},
   "outputs": [],
   "source": [
    "def run_task():\n",
    "    t0 = time.time()\n",
    "    data = read_file()\n",
    "#     first_star(data)\n",
    "    second_star(data)\n",
    "    t1 = time.time()\n",
    "    # print(data)\n",
    "    print(\"aikaa meni:\",round(t1-t0,4), \"s\")"
   ]
  },
  {
   "cell_type": "code",
   "execution_count": 31,
   "id": "33f95e29",
   "metadata": {},
   "outputs": [],
   "source": [
    "def first_star(data):\n",
    "    inde = 0\n",
    "    sub = [0, 0]\n",
    "    while True:\n",
    "        if inde == len(data):\n",
    "            break\n",
    "        move = data[inde].split(\" \")[1]\n",
    "        if 'forward' in data[inde]:\n",
    "            sub[0] += int(move)\n",
    "        elif 'down' in data[inde]:\n",
    "            sub[1] += int(move)\n",
    "        else:\n",
    "            sub[1] -= int(move)\n",
    "        inde += 1\n",
    "        #print(inde, B, A, measure)\n",
    "    print(prod(sub))"
   ]
  },
  {
   "cell_type": "code",
   "execution_count": 43,
   "id": "f59e47c1",
   "metadata": {},
   "outputs": [],
   "source": [
    "def second_star(data):\n",
    "    inde = 0\n",
    "    sub = [0, 0]\n",
    "    aim = 0\n",
    "    while True:\n",
    "        if inde == len(data):\n",
    "            break\n",
    "        move = data[inde].split(\" \")[1]\n",
    "        if 'forward' in data[inde]:\n",
    "            sub[0] += int(move)\n",
    "            sub[1] += aim * int(move)\n",
    "        elif 'down' in data[inde]:\n",
    "            aim += int(move)\n",
    "        else:\n",
    "            aim -= int(move)\n",
    "        inde += 1\n",
    "        #print(inde, B, A, measure)\n",
    "    print(prod(sub))"
   ]
  },
  {
   "cell_type": "code",
   "execution_count": 44,
   "id": "bf36c5a4",
   "metadata": {},
   "outputs": [
    {
     "name": "stdout",
     "output_type": "stream",
     "text": [
      "1759818555\n",
      "aikaa meni: 0.0 s\n"
     ]
    }
   ],
   "source": [
    "run_task()"
   ]
  },
  {
   "cell_type": "code",
   "execution_count": null,
   "id": "eb933bef",
   "metadata": {},
   "outputs": [],
   "source": []
  }
 ],
 "metadata": {
  "kernelspec": {
   "display_name": "Python 3",
   "language": "python",
   "name": "python3"
  },
  "language_info": {
   "codemirror_mode": {
    "name": "ipython",
    "version": 3
   },
   "file_extension": ".py",
   "mimetype": "text/x-python",
   "name": "python",
   "nbconvert_exporter": "python",
   "pygments_lexer": "ipython3",
   "version": "3.6.13"
  }
 },
 "nbformat": 4,
 "nbformat_minor": 5
}
