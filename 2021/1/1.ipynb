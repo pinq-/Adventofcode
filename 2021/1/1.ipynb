{
 "cells": [
  {
   "cell_type": "code",
   "execution_count": 45,
   "id": "88659357",
   "metadata": {},
   "outputs": [],
   "source": [
    "import datetime\n",
    "import time\n",
    "from numpy import sign\n",
    "\n"
   ]
  },
  {
   "cell_type": "code",
   "execution_count": 73,
   "id": "781713f1",
   "metadata": {},
   "outputs": [],
   "source": [
    "def read_file():\n",
    "    day = datetime.datetime.now().day\n",
    "    file = \"input.txt\"\n",
    "#     file = \"testi.txt\"\n",
    "    with open(file, \"r\") as inputfile:\n",
    "        data = [int(i) for i in inputfile.read().splitlines()]\n",
    "    return data"
   ]
  },
  {
   "cell_type": "code",
   "execution_count": 74,
   "id": "abf4cdcd",
   "metadata": {},
   "outputs": [],
   "source": [
    "def run_task():\n",
    "    t0 = time.time()\n",
    "    data = read_file()\n",
    "#     first_star(data)\n",
    "    second_star(data)\n",
    "    t1 = time.time()\n",
    "    # print(data)\n",
    "    print(\"aikaa meni:\",round(t1-t0,4), \"s\")"
   ]
  },
  {
   "cell_type": "code",
   "execution_count": 75,
   "id": "9cf90b61",
   "metadata": {},
   "outputs": [],
   "source": [
    "def first_star(data):\n",
    "    inde = 1\n",
    "    kasvaa = 0\n",
    "    while True:\n",
    "        if inde == len(data):\n",
    "            break\n",
    "        measure = data[inde] - data[inde - 1]\n",
    "        if sign(measure) == 1:\n",
    "            kasvaa += 1\n",
    "        inde += 1\n",
    "    print(kasvaa)"
   ]
  },
  {
   "cell_type": "code",
   "execution_count": 76,
   "id": "79a4505d",
   "metadata": {},
   "outputs": [],
   "source": [
    "def second_star(data):\n",
    "    inde = 3\n",
    "    kasvaa = 0\n",
    "    while True:\n",
    "        if inde == len(data):\n",
    "            break\n",
    "        B = data[inde] + data[inde - 1] + data[inde - 2]\n",
    "        A = data[inde - 1] + data[inde - 2] + data[inde - 3]\n",
    "        measure = B - A\n",
    "        if sign(measure) == 1:\n",
    "            kasvaa += 1\n",
    "        inde += 1\n",
    "        #print(inde, B, A, measure)\n",
    "    print(kasvaa)"
   ]
  },
  {
   "cell_type": "code",
   "execution_count": 77,
   "id": "6220d08c",
   "metadata": {},
   "outputs": [
    {
     "name": "stdout",
     "output_type": "stream",
     "text": [
      "1235\n",
      "aikaa meni: 0.0 s\n"
     ]
    }
   ],
   "source": [
    "run_task()"
   ]
  }
 ],
 "metadata": {
  "kernelspec": {
   "display_name": "Python 3",
   "language": "python",
   "name": "python3"
  },
  "language_info": {
   "codemirror_mode": {
    "name": "ipython",
    "version": 3
   },
   "file_extension": ".py",
   "mimetype": "text/x-python",
   "name": "python",
   "nbconvert_exporter": "python",
   "pygments_lexer": "ipython3",
   "version": "3.6.13"
  }
 },
 "nbformat": 4,
 "nbformat_minor": 5
}
