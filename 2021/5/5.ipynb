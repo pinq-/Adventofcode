{
 "cells": [
  {
   "cell_type": "code",
   "execution_count": 4,
   "id": "32832e9b",
   "metadata": {},
   "outputs": [],
   "source": [
    "import datetime\n",
    "import time\n",
    "from numpy import prod\n",
    "import ast\n",
    "from itertools import groupby\n",
    "import numpy as np\n",
    "import pandas as pd"
   ]
  },
  {
   "cell_type": "code",
   "execution_count": 6,
   "id": "8cd68574",
   "metadata": {},
   "outputs": [],
   "source": [
    "def read_file():\n",
    "    day = datetime.datetime.now().day\n",
    "    file = \"input.txt\"\n",
    "    #file = \"testi.txt\"\n",
    "    with open(file, \"r\") as inputfile:\n",
    "        data = [i.split(\" -> \") for i in inputfile.read().splitlines()]\n",
    "    return data"
   ]
  },
  {
   "cell_type": "code",
   "execution_count": 7,
   "id": "98496e6b",
   "metadata": {},
   "outputs": [],
   "source": [
    "def run_task():\n",
    "    t0 = time.time()\n",
    "    data = read_file()\n",
    "    #first_star(data)\n",
    "    second_star(data)\n",
    "    t1 = time.time()\n",
    "    # print(data)\n",
    "    print(\"aikaa meni:\",round(t1-t0,4), \"s\")"
   ]
  },
  {
   "cell_type": "code",
   "execution_count": 8,
   "id": "086feb83",
   "metadata": {},
   "outputs": [],
   "source": [
    "def first_star(data):\n",
    "    board = np.array([[0]])\n",
    "    for line in data:\n",
    "        #print(line)\n",
    "        line[0] = [int(i) for i in line[0].split(\",\")]\n",
    "        line[1] = [int(i) for i in line[1].split(\",\")]\n",
    "        x = [line[0][0], line[1][0]]\n",
    "        y = [line[0][1], line[1][1]]\n",
    "        x.sort()\n",
    "        y.sort()\n",
    "        if x[1] > board.shape[1]:\n",
    "            board = np.pad(board, ((0,0),(0, x[1] - board.shape[1] + 1)), mode='constant', constant_values=0)\n",
    "        if y[1] > board.shape[0]:\n",
    "            board = np.pad(board, ((0,y[1] - board.shape[0] + 1),(0,0)), mode='constant', constant_values=0)\n",
    "        #print(x,y)\n",
    "        if x[1] - x[0] == 0:\n",
    "            board[y[0]:y[1] + 1, x[0]] += 1\n",
    "        elif y[1] - y[0] == 0:\n",
    "            board[y[0], x[0]:x[1] + 1] += 1\n",
    "        #print(board, \"\\n\", board.shape)\n",
    "    print(np.sum(board > 1))"
   ]
  },
  {
   "cell_type": "code",
   "execution_count": 9,
   "id": "108b615c",
   "metadata": {},
   "outputs": [],
   "source": [
    "def second_star(data):\n",
    "    board = np.array([[0]])\n",
    "    for line in data:\n",
    "        #print(line)\n",
    "        line[0] = [int(i) for i in line[0].split(\",\")]\n",
    "        line[1] = [int(i) for i in line[1].split(\",\")]\n",
    "        x = [line[0][0], line[1][0]]\n",
    "        y = [line[0][1], line[1][1]]\n",
    "        if max(x) + 1 > board.shape[1]:\n",
    "            board = np.pad(board, ((0,0),(0, max(x) - board.shape[1] + 1)), mode='constant', constant_values=0)\n",
    "        if max(y) + 1 > board.shape[0]:\n",
    "            board = np.pad(board, ((0,max(y) - board.shape[0] + 1),(0,0)), mode='constant', constant_values=0)\n",
    "        #print(x,y, board.shape)\n",
    "        if x[1] - x[0] == 0:\n",
    "            board[min(y):max(y) + 1, x[0]] += 1\n",
    "        elif y[1] - y[0] == 0:\n",
    "            board[y[0], min(x):max(x) + 1] += 1\n",
    "        else:\n",
    "            x2 = [i for i in range(x[0], x[1] + np.sign(x[1] - x[0]), np.sign(x[1] - x[0]))]\n",
    "            y2 = [k for k in range(y[0], y[1] + np.sign(y[1] - y[0]), np.sign(y[1] - y[0]))]\n",
    "            for idz, z in enumerate(x2):\n",
    "                board[y2[idz], x2[idz]] += 1\n",
    "                \n",
    "    print(np.sum(board > 1))"
   ]
  },
  {
   "cell_type": "code",
   "execution_count": 10,
   "id": "9787e78b",
   "metadata": {},
   "outputs": [
    {
     "name": "stdout",
     "output_type": "stream",
     "text": [
      "19258\n",
      "aikaa meni: 0.0926 s\n",
      "None\n"
     ]
    }
   ],
   "source": [
    "print(run_task())"
   ]
  },
  {
   "cell_type": "code",
   "execution_count": null,
   "id": "84645110-f38e-42eb-97fd-c402063d7a67",
   "metadata": {},
   "outputs": [],
   "source": []
  }
 ],
 "metadata": {
  "kernelspec": {
   "display_name": "Python 3",
   "language": "python",
   "name": "python3"
  },
  "language_info": {
   "codemirror_mode": {
    "name": "ipython",
    "version": 3
   },
   "file_extension": ".py",
   "mimetype": "text/x-python",
   "name": "python",
   "nbconvert_exporter": "python",
   "pygments_lexer": "ipython3",
   "version": "3.6.13"
  }
 },
 "nbformat": 4,
 "nbformat_minor": 5
}
