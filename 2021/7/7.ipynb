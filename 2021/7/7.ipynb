{
 "cells": [
  {
   "cell_type": "code",
   "execution_count": 1,
   "id": "32832e9b",
   "metadata": {},
   "outputs": [],
   "source": [
    "import time\n",
    "from statistics import median, mean"
   ]
  },
  {
   "cell_type": "code",
   "execution_count": 2,
   "id": "8cd68574",
   "metadata": {},
   "outputs": [],
   "source": [
    "def read_file():\n",
    "    file = \"input.txt\"\n",
    "    #file = \"testi.txt\"\n",
    "    with open(file, \"r\") as inputfile:\n",
    "        data = [i for i in inputfile.read().splitlines()]\n",
    "    return data"
   ]
  },
  {
   "cell_type": "code",
   "execution_count": 3,
   "id": "98496e6b",
   "metadata": {},
   "outputs": [],
   "source": [
    "def run_task():\n",
    "    t0 = time.time()\n",
    "    data = read_file()\n",
    "    #first_star(data)\n",
    "    second_star(data)\n",
    "    t1 = time.time()\n",
    "    # print(data)\n",
    "    print(\"aikaa meni:\",round(t1-t0,4), \"s\")"
   ]
  },
  {
   "cell_type": "code",
   "execution_count": 4,
   "id": "086feb83",
   "metadata": {},
   "outputs": [],
   "source": [
    "def first_star(data):\n",
    "    ravut = [int(i) for i in data[0].split(\",\")]\n",
    "    print(sum(ravut), median(ravut))\n",
    "    sum_all = 0\n",
    "    for k in ravut:\n",
    "        sum_all += abs(k - median(ravut))\n",
    "    print(median(ravut), sum_all)\n",
    "    return 0"
   ]
  },
  {
   "cell_type": "code",
   "execution_count": 5,
   "id": "108b615c",
   "metadata": {},
   "outputs": [],
   "source": [
    "def second_star(data):\n",
    "    ravut = [int(i) for i in data[0].split(\",\")]\n",
    "    sum_all = 0\n",
    "    luku = round(mean(ravut))\n",
    "    for i in range(luku - 5, luku + 6):\n",
    "        sum_all = 0\n",
    "        for k in ravut:\n",
    "            for z in range(abs(k - i)):\n",
    "                sum_all += z + 1\n",
    "        print(i, sum_all)\n",
    "    return 0"
   ]
  },
  {
   "cell_type": "code",
   "execution_count": 6,
   "id": "9787e78b",
   "metadata": {},
   "outputs": [
    {
     "name": "stdout",
     "output_type": "stream",
     "text": [
      "454 92891100\n",
      "455 92887104\n",
      "456 92884110\n",
      "457 92882118\n",
      "458 92881128\n",
      "459 92881138\n",
      "460 92882149\n",
      "461 92884161\n",
      "462 92887173\n",
      "463 92891186\n",
      "464 92896201\n",
      "aikaa meni: 0.2161 s\n"
     ]
    }
   ],
   "source": [
    "run_task()"
   ]
  },
  {
   "cell_type": "code",
   "execution_count": null,
   "id": "e890b6d1-f53e-40cd-b049-c1cef48e21be",
   "metadata": {},
   "outputs": [],
   "source": []
  }
 ],
 "metadata": {
  "kernelspec": {
   "display_name": "Python 3 (ipykernel)",
   "language": "python",
   "name": "python3"
  },
  "language_info": {
   "codemirror_mode": {
    "name": "ipython",
    "version": 3
   },
   "file_extension": ".py",
   "mimetype": "text/x-python",
   "name": "python",
   "nbconvert_exporter": "python",
   "pygments_lexer": "ipython3",
   "version": "3.8.10"
  }
 },
 "nbformat": 4,
 "nbformat_minor": 5
}
