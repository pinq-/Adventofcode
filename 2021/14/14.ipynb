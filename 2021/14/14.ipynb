{
 "cells": [
  {
   "cell_type": "code",
   "execution_count": 6,
   "id": "32832e9b",
   "metadata": {},
   "outputs": [],
   "source": [
    "import time\n",
    "import numpy as np"
   ]
  },
  {
   "cell_type": "code",
   "execution_count": 253,
   "id": "8cd68574",
   "metadata": {},
   "outputs": [],
   "source": [
    "def read_file():\n",
    "    file = \"input.txt\"\n",
    "    #file = \"testi.txt\"\n",
    "    with open(file, \"r\") as inputfile:\n",
    "        data = np.array([i for i in inputfile.read().splitlines()])\n",
    "    return data"
   ]
  },
  {
   "cell_type": "code",
   "execution_count": 303,
   "id": "98496e6b",
   "metadata": {},
   "outputs": [],
   "source": [
    "def run_task():\n",
    "    t0 = time.time()\n",
    "    data = read_file()\n",
    "    #first_star(data)\n",
    "    second_star(data)\n",
    "    t1 = time.time()\n",
    "    # print(data)\n",
    "    print(\"aikaa meni:\",round(t1-t0,4), \"s\")"
   ]
  },
  {
   "cell_type": "code",
   "execution_count": 304,
   "id": "086feb83",
   "metadata": {},
   "outputs": [],
   "source": [
    "def first_star(data):\n",
    "    start = data[0]\n",
    "    rules = [i.split(' -> ') for i in data if len(i.split('->')) > 1]\n",
    "    start_d = start[:]\n",
    "    move_ind = 0\n",
    "    rounds = 1\n",
    "    for rounde in range(rounds):\n",
    "        move_ind = 0\n",
    "        while move_ind + 1 < len(start):\n",
    "            for rule in rules:\n",
    "                if rule[0] in start[move_ind:move_ind + 2]:\n",
    "                    # print(rule[0], start[move_ind:move_ind + 2], move_ind)\n",
    "                    start_d = start_d[:move_ind * 2 + 1] + rule[1] + start_d[move_ind * 2 + 1:]\n",
    "                    # print(\"muutos\", start_d)\n",
    "                    move_ind += 1\n",
    "                    break\n",
    "        start = start_d[:]\n",
    "        print(start)\n",
    "        count = dict((x, start.count(x)) for x in set(start))\n",
    "        print(len(start),count)\n",
    "        pienin, suurin = min(count.values()), max(count.values())\n",
    "        print(suurin - pienin)\n",
    "    return 0"
   ]
  },
  {
   "cell_type": "code",
   "execution_count": 307,
   "id": "108b615c",
   "metadata": {},
   "outputs": [],
   "source": [
    "def second_star(data):\n",
    "    start = data[0]\n",
    "    cont, result = zip(*[i.split(' -> ') for i in data if len(i.split('->')) > 1])\n",
    "    compos = {}\n",
    "    move_ind = 0\n",
    "    rounds = 40\n",
    "    # print(cont, result)\n",
    "    #print(start)\n",
    "    for comp in range(len(start) - 1):\n",
    "        if start[comp:comp + 2] in compos:\n",
    "            compos[start[comp:comp + 2]] += 1\n",
    "        else:\n",
    "            compos[start[comp:comp + 2]] = 1\n",
    "    for rounde in range(rounds):\n",
    "        # print(rounde, compos)\n",
    "        compos_temp = compos.copy()\n",
    "        for key in list(compos):\n",
    "            # print(key, compos_temp, compos)\n",
    "            if key in cont and compos[key] > 0:\n",
    "                key1 = key[0] + result[cont.index(key)]\n",
    "                key2 = result[cont.index(key)] + key[1]\n",
    "                # print(key, 'läpi', compos_temp[key], key1, key2)\n",
    "                if key1 in compos_temp:\n",
    "                    compos_temp[key1] += compos[key]\n",
    "                else:\n",
    "                    compos_temp[key1] = compos[key]\n",
    "                if key2 in compos_temp:\n",
    "                    compos_temp[key2] += compos[key]\n",
    "                else:\n",
    "                    compos_temp[key2] = compos[key]\n",
    "                if compos_temp[key] > 0:\n",
    "                    compos_temp[key] -= compos[key]\n",
    "        compos = compos_temp.copy()\n",
    "        # print('eka',compos)\n",
    "    print('maara',count_amount(compos, start))\n",
    "    return 0"
   ]
  },
  {
   "cell_type": "code",
   "execution_count": 308,
   "id": "9787e78b",
   "metadata": {},
   "outputs": [
    {
     "name": "stdout",
     "output_type": "stream",
     "text": [
      "3776553567525\n",
      "maara {'N': 1097414398280, 'B': 4134947677265, 'O': 1476758462088, 'K': 2605311143123, 'H': 1404478579381, 'V': 4817934452604, 'S': 1041380885079, 'C': 1481598185670, 'P': 1692579683772, 'F': 1138317460483}\n",
      "aikaa meni: 0.012 s\n"
     ]
    }
   ],
   "source": [
    "run_task()"
   ]
  },
  {
   "cell_type": "code",
   "execution_count": 302,
   "id": "a2f491b9-f702-419b-9daf-aec1802748b5",
   "metadata": {},
   "outputs": [],
   "source": [
    "def count_amount(dicto, start):\n",
    "    amount = {}\n",
    "    for key in dicto:\n",
    "        element = key[0]\n",
    "        if not element in amount:\n",
    "            amount[element] = 0\n",
    "            for key2 in dicto:\n",
    "                if key2[0] == element:\n",
    "                    amount[element] += dicto[key2]\n",
    "    amount[start[-1]] += 1\n",
    "    print(max(amount.values()) - min(amount.values()))\n",
    "    return amount"
   ]
  },
  {
   "cell_type": "code",
   "execution_count": null,
   "id": "8f511ab5-2ffa-4afe-bb14-98b24ac9cd16",
   "metadata": {},
   "outputs": [],
   "source": []
  },
  {
   "cell_type": "code",
   "execution_count": null,
   "id": "93397229-2829-4185-ac80-def9cb4bbda0",
   "metadata": {},
   "outputs": [],
   "source": []
  }
 ],
 "metadata": {
  "kernelspec": {
   "display_name": "Python 3",
   "language": "python",
   "name": "python3"
  },
  "language_info": {
   "codemirror_mode": {
    "name": "ipython",
    "version": 3
   },
   "file_extension": ".py",
   "mimetype": "text/x-python",
   "name": "python",
   "nbconvert_exporter": "python",
   "pygments_lexer": "ipython3",
   "version": "3.6.13"
  }
 },
 "nbformat": 4,
 "nbformat_minor": 5
}
