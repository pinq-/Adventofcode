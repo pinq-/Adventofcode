{
 "cells": [
  {
   "cell_type": "code",
   "execution_count": 2,
   "id": "32832e9b",
   "metadata": {},
   "outputs": [],
   "source": [
    "import time\n",
    "import numpy as np"
   ]
  },
  {
   "cell_type": "code",
   "execution_count": 106,
   "id": "8cd68574",
   "metadata": {},
   "outputs": [],
   "source": [
    "def read_file():\n",
    "    file = \"input.txt\"\n",
    "    #file = \"testi.txt\"\n",
    "    with open(file, \"r\") as inputfile:\n",
    "        data = np.array([i for i in inputfile.read().splitlines()])\n",
    "        data\n",
    "    return data"
   ]
  },
  {
   "cell_type": "code",
   "execution_count": 107,
   "id": "98496e6b",
   "metadata": {},
   "outputs": [],
   "source": [
    "def run_task():\n",
    "    t0 = time.time()\n",
    "    data = read_file()\n",
    "    first_star(data)\n",
    "    #second_star(data)\n",
    "    t1 = time.time()\n",
    "    # print(data)\n",
    "    print(\"aikaa meni:\",round(t1-t0,4), \"s\")"
   ]
  },
  {
   "cell_type": "code",
   "execution_count": 108,
   "id": "108b615c",
   "metadata": {},
   "outputs": [],
   "source": [
    "def second_star(data):\n",
    "    dots = np.array([[int(k) for k in i.split(',')] for i in data if ',' in i])\n",
    "    fold = [[k for k in i.split(' along ')[1].split('=')] for i in data if 'fold' in i]\n",
    "    paper_size = [0, 0]\n",
    "    for fo in fold:\n",
    "        if fo[0] == 'y':\n",
    "            if int(fo[1]) * 2 + 1 > paper_size[0]:\n",
    "                paper_size[0] = int(fo[1]) * 2 + 1\n",
    "        elif fo[0] == 'x':\n",
    "            if int(fo[1]) * 2 + 1 > paper_size[1]:\n",
    "                paper_size[1] = int(fo[1]) * 2 + 1\n",
    "    paper = np.full(paper_size, 0)\n",
    "    # print(paper, paper_size)\n",
    "    for dot in dots:\n",
    "        paper[dot[1], dot[0]] = 1\n",
    "    for fo in fold:\n",
    "        print(fo)\n",
    "        # print(paper.shape)\n",
    "        if fo[0] == 'y':\n",
    "            paper = np.delete(paper, int(fo[1]), 0)\n",
    "            paper = np.split(paper, 2)\n",
    "            paper[1] = np.flip(paper[1], 0)\n",
    "        elif fo[0] == 'x':\n",
    "            paper = np.delete(paper, int(fo[1]), 1)\n",
    "            paper = np.split(paper, 2, 1)\n",
    "            paper[1] = np.flip(paper[1], 1)\n",
    "        paper = paper[0] + paper[1]\n",
    "    paper_mask = paper[paper > 0] = True\n",
    "    print(paper_mask)\n",
    "    # print(paper)\n",
    "    for line in paper:\n",
    "        for i in line:\n",
    "            if i == 0:\n",
    "                print('.', end='')\n",
    "            else:\n",
    "                print(colored('#', 'red'), end='')\n",
    "        print('')\n",
    "        \n",
    "        # print(colored(\"\".join([str(elem) for elem in line]), 'green'))\n",
    "    return 0"
   ]
  },
  {
   "cell_type": "code",
   "execution_count": 111,
   "id": "086feb83",
   "metadata": {},
   "outputs": [],
   "source": [
    "def first_star(data):\n",
    "    start = data[0]\n",
    "    rules = [i.split(' -> ') for i in data if len(i.split('->')) > 1]\n",
    "    start_d = start[:]\n",
    "    move_ind = 0\n",
    "    rounds = 20\n",
    "    for rounde in range(rounds):\n",
    "        move_ind = 0\n",
    "        while move_ind + 1 < len(start):\n",
    "            for rule in rules:\n",
    "                if rule[0] in start[move_ind:move_ind + 2]:\n",
    "                    # print(rule[0], start[move_ind:move_ind + 2], move_ind)\n",
    "                    start_d = start_d[:move_ind * 2 + 1] + rule[1] + start_d[move_ind * 2 + 1:]\n",
    "                    # print(\"muutos\", start_d)\n",
    "                    move_ind += 1\n",
    "                    break\n",
    "        start = start_d[:]\n",
    "        # print(start)\n",
    "    count = dict((x, start.count(x)) for x in set(start))\n",
    "    print(len(start),count)\n",
    "    pienin, suurin = min(count.values()), max(count.values())\n",
    "    print(suurin - pienin)\n",
    "    return 0"
   ]
  },
  {
   "cell_type": "code",
   "execution_count": null,
   "id": "9787e78b",
   "metadata": {},
   "outputs": [],
   "source": [
    "run_task()"
   ]
  },
  {
   "cell_type": "code",
   "execution_count": null,
   "id": "a2f491b9-f702-419b-9daf-aec1802748b5",
   "metadata": {},
   "outputs": [],
   "source": []
  },
  {
   "cell_type": "code",
   "execution_count": null,
   "id": "8f511ab5-2ffa-4afe-bb14-98b24ac9cd16",
   "metadata": {},
   "outputs": [],
   "source": []
  }
 ],
 "metadata": {
  "kernelspec": {
   "display_name": "Python 3",
   "language": "python",
   "name": "python3"
  },
  "language_info": {
   "codemirror_mode": {
    "name": "ipython",
    "version": 3
   },
   "file_extension": ".py",
   "mimetype": "text/x-python",
   "name": "python",
   "nbconvert_exporter": "python",
   "pygments_lexer": "ipython3",
   "version": "3.6.13"
  }
 },
 "nbformat": 4,
 "nbformat_minor": 5
}
